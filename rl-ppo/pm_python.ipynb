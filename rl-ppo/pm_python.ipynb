{
  "nbformat": 4,
  "nbformat_minor": 0,
  "metadata": {
    "colab": {
      "name": "pm_python.ipynb",
      "provenance": [],
      "toc_visible": true,
      "authorship_tag": "ABX9TyP8RFaNIbR6TsFVcXJ7mS2I",
      "include_colab_link": true
    },
    "kernelspec": {
      "name": "python3",
      "display_name": "Python 3"
    },
    "accelerator": "GPU"
  },
  "cells": [
    {
      "cell_type": "markdown",
      "metadata": {
        "id": "view-in-github",
        "colab_type": "text"
      },
      "source": [
        "<a href=\"https://colab.research.google.com/github/kulbir-ahluwalia/CMSC818B_MiniProject_2/blob/main/python/pm_python.ipynb\" target=\"_parent\"><img src=\"https://colab.research.google.com/assets/colab-badge.svg\" alt=\"Open In Colab\"/></a>"
      ]
    },
    {
      "cell_type": "code",
      "metadata": {
        "id": "Rhy51H5ixNY1",
        "colab": {
          "base_uri": "https://localhost:8080/"
        },
        "outputId": "94cc271d-031e-4208-94f8-5ac9d81181c1"
      },
      "source": [
        "## Get the required python files\n",
        "!wget https://raw.githubusercontent.com/kulbir-ahluwalia/CMSC818B_MiniProject_2/main/python/actors.py\n",
        "!wget https://raw.githubusercontent.com/kulbir-ahluwalia/CMSC818B_MiniProject_2/main/python/pm_env.py\n",
        "!wget https://raw.githubusercontent.com/kulbir-ahluwalia/CMSC818B_MiniProject_2/main/python/custom_algorithms.py\n"
      ],
      "execution_count": null,
      "outputs": [
        {
          "output_type": "stream",
          "text": [
            "--2020-12-04 04:35:59--  https://raw.githubusercontent.com/kulbir-ahluwalia/CMSC818B_MiniProject_2/main/python/actors.py\n",
            "Resolving raw.githubusercontent.com (raw.githubusercontent.com)... 151.101.0.133, 151.101.64.133, 151.101.128.133, ...\n",
            "Connecting to raw.githubusercontent.com (raw.githubusercontent.com)|151.101.0.133|:443... connected.\n",
            "HTTP request sent, awaiting response... 200 OK\n",
            "Length: 5622 (5.5K) [text/plain]\n",
            "Saving to: ‘actors.py’\n",
            "\n",
            "actors.py           100%[===================>]   5.49K  --.-KB/s    in 0s      \n",
            "\n",
            "2020-12-04 04:35:59 (68.1 MB/s) - ‘actors.py’ saved [5622/5622]\n",
            "\n",
            "--2020-12-04 04:35:59--  https://raw.githubusercontent.com/kulbir-ahluwalia/CMSC818B_MiniProject_2/main/python/env.py\n",
            "Resolving raw.githubusercontent.com (raw.githubusercontent.com)... 151.101.0.133, 151.101.64.133, 151.101.128.133, ...\n",
            "Connecting to raw.githubusercontent.com (raw.githubusercontent.com)|151.101.0.133|:443... connected.\n",
            "HTTP request sent, awaiting response... 200 OK\n",
            "Length: 6874 (6.7K) [text/plain]\n",
            "Saving to: ‘env.py’\n",
            "\n",
            "env.py              100%[===================>]   6.71K  --.-KB/s    in 0s      \n",
            "\n",
            "2020-12-04 04:35:59 (72.4 MB/s) - ‘env.py’ saved [6874/6874]\n",
            "\n"
          ],
          "name": "stdout"
        }
      ]
    },
    {
      "cell_type": "code",
      "metadata": {
        "id": "oTjxCbRgxYj5",
        "colab": {
          "base_uri": "https://localhost:8080/"
        },
        "outputId": "6b5f7e08-076e-4579-a7e2-af2c13c06a08"
      },
      "source": [
        "!pip install pygame"
      ],
      "execution_count": null,
      "outputs": [
        {
          "output_type": "stream",
          "text": [
            "Collecting pygame\n",
            "\u001b[?25l  Downloading https://files.pythonhosted.org/packages/87/4c/2ebe8ab1a695a446574bc48d96eb3503649893be8c769e7fafd65fd18833/pygame-2.0.0-cp36-cp36m-manylinux1_x86_64.whl (11.5MB)\n",
            "\u001b[K     |████████████████████████████████| 11.5MB 5.1MB/s \n",
            "\u001b[?25hInstalling collected packages: pygame\n",
            "Successfully installed pygame-2.0.0\n"
          ],
          "name": "stdout"
        }
      ]
    },
    {
      "cell_type": "code",
      "metadata": {
        "id": "sQbaTdYq2Nng"
      },
      "source": [
        "%load_ext autoreload\n",
        "%autoreload 2"
      ],
      "execution_count": null,
      "outputs": []
    },
    {
      "cell_type": "code",
      "metadata": {
        "id": "_1TnTnUo9-1p",
        "colab": {
          "base_uri": "https://localhost:8080/"
        },
        "outputId": "eaa9bd8d-20f6-472c-e7ca-fc195298ad11"
      },
      "source": [
        "import cv2\n",
        "import numpy as np\n",
        "from google.colab.patches import cv2_imshow\n",
        "from google.colab import output\n",
        "import time \n",
        "import os, sys\n",
        "import pygame\n",
        "\n",
        "\n",
        "# set SDL to use the dummy NULL video driver, \n",
        "#   so it doesn't need a windowing system.\n",
        "os.environ[\"SDL_VIDEODRIVER\"] = \"dummy\""
      ],
      "execution_count": null,
      "outputs": [
        {
          "output_type": "stream",
          "text": [
            "pygame 2.0.0 (SDL 2.0.12, python 3.6.9)\n",
            "Hello from the pygame community. https://www.pygame.org/contribute.html\n"
          ],
          "name": "stdout"
        }
      ]
    },
    {
      "cell_type": "code",
      "metadata": {
        "id": "MtQb9iil-DZz"
      },
      "source": [
        "## Import classes for elements and visualization\n",
        "from actors import Player, Obstacle, Drone\n",
        "from pm_env import Canvas, process_into_image, process_img, get_obstacles, get_droneview, update_all, process_screen"
      ],
      "execution_count": null,
      "outputs": []
    },
    {
      "cell_type": "markdown",
      "metadata": {
        "id": "AJloCM75-3Va"
      },
      "source": [
        "### Defining the environement"
      ]
    },
    {
      "cell_type": "code",
      "metadata": {
        "id": "wn3rFSyn-F2z"
      },
      "source": [
        "## Canvas is the grid we are going to use\n",
        "canvas = Canvas(300,300)\n",
        "\n",
        "## Create the robots\n",
        "playerList = []\n",
        "playerList.append(Player(pos=[20, 10], color='g', size=10))\n",
        "playerList.append(Player(pos=[0, 260], color='g', size=10))\n",
        "playerList.append(Player(pos=[200, 10], color='g', size=10))\n",
        "playerList.append(Player(pos=[250, 200], color='g', size=10))\n",
        "# playerList.append(Player(pos=[200, 300], color='g', size=10))\n",
        "# playerList.append(Player(pos=[400, 400], color='g', size=10))\n",
        "\n",
        "## Create teh robots at random locations\n",
        "n_obj = 20 # number of objects\n",
        "obstacleList = []\n",
        "# obstacleList.append(Obstacle(pos=[60, 60], size=[10,15]))\n",
        "# obstacleList.append(Obstacle(pos=[60, 60],size=[20,10]))\n",
        "r_coords = np.random.randint(0, canvas.height, (n_obj)) # random rows\n",
        "c_coords = np.random.randint(0, canvas.width, (n_obj)) # random columns\n",
        "# Width and height would be chosen from 10,15,20,25,30 randomly\n",
        "for i in range(len(r_coords)):\n",
        "    obstacleList.append(Obstacle(pos=[r_coords[i], c_coords[i]], \n",
        "                                 size=[np.random.choice([10,15,20,25,30]),np.random.choice([10,15,20,25,30])]))\n",
        "\n",
        "\n",
        "### Add drone to the environememnt\n",
        "droneList = []\n",
        "droneList.append(Drone(pos=[150,150], color='b',  size=100))"
      ],
      "execution_count": null,
      "outputs": []
    },
    {
      "cell_type": "markdown",
      "metadata": {
        "id": "elzLFt7I_b-_"
      },
      "source": [
        "### Algorithms for testing"
      ]
    },
    {
      "cell_type": "code",
      "metadata": {
        "id": "QCUTHZ-6-QO0"
      },
      "source": [
        "# pygame.init()\n",
        "\n",
        "## Step size. How many grids would the robot move at each step\n",
        "step_size = playerList[0].size\n",
        "\n",
        "## the dictionary defniing how many to update the location\n",
        "move_dict = {\n",
        "    'left' : np.array([0, -step_size]),\n",
        "    'up' : np.array([-step_size,0]),\n",
        "    'right' : np.array([0, step_size]),\n",
        "    'down' : np.array([step_size,0])\n",
        "}\n",
        "\n",
        "\n",
        "    \n"
      ],
      "execution_count": null,
      "outputs": []
    },
    {
      "cell_type": "markdown",
      "metadata": {
        "id": "WtiZ9cyt_hz4"
      },
      "source": [
        "#### Lawnmower algorithm with *hover over buildings*"
      ]
    },
    {
      "cell_type": "code",
      "metadata": {
        "id": "pyuOMywb_ann"
      },
      "source": [
        "## Order of moves for anti-clockwise movement\n",
        "anti_clock_order_dict = {'up' : 0,\n",
        "                    'right': 1,\n",
        "                    'down' : 2,\n",
        "                    'left': 3}\n",
        "anti_clock_order = ['down', 'right', 'up', 'left']\n",
        "\n",
        "## Function to check if a location is valid (within grid)\n",
        "def is_valid(pos, limits):\n",
        "    if ((pos[0] < 0) or (pos[1] < 0) or (pos[0] >= limits[0]) or (pos[1] >= limits[1])):\n",
        "        return False\n",
        "    else:\n",
        "        return True\n",
        "\n",
        "## The lawnmower algorithm\n",
        "def lawn_mover(player, data_img):\n",
        "    pos = player.pos  # Get players location\n",
        "    obstacle = (data_img[:,:,0] > 0).astype(int) # get grid indicating where objects are\n",
        "    covered = (data_img[:,:,1] > 0).astype(int) # get grid indicating which areas have been covered\n",
        "    # covered[data_img[:,:,1] == 255] = 0\n",
        "\n",
        "    # if the last action is not recorded, move to left or right as per the row\n",
        "    if player.prev_action == None:\n",
        "        player.prev_action = ['right', 'left'][pos[1]%2]\n",
        "    \n",
        "\n",
        "    ####\n",
        "    ## Iterate over each direction, till yu find a valid orientation to move\n",
        "    for i in range(4):\n",
        "        player.prev_action = anti_clock_order[(anti_clock_order_dict[player.prev_action]+i) %4]\n",
        "        move = move_dict[player.prev_action]\n",
        "        print('CHECK: ', pos, move, player.prev_action)\n",
        "        temp_pos = pos + move\n",
        "        if not is_valid(temp_pos, data_img.shape[:2]):\n",
        "            continue\n",
        "        else:\n",
        "            if (covered[temp_pos[0], temp_pos[1]] == 1):# or (obstacle[temp_pos[0], temp_pos[1]] == 1):\n",
        "            # if (obstacle[temp_pos[0], temp_pos[1]] == 1):\n",
        "                continue\n",
        "            else:\n",
        "                break\n",
        "    return temp_pos\n",
        "\n"
      ],
      "execution_count": null,
      "outputs": []
    },
    {
      "cell_type": "markdown",
      "metadata": {
        "id": "Lw1S3UyJ_aZA"
      },
      "source": [
        "#### Greedy movement"
      ]
    },
    {
      "cell_type": "code",
      "metadata": {
        "id": "aBYvQCiq--7j"
      },
      "source": [
        "## Greedy algorithm (distributed)\n",
        "def greedy_algorithm(player, data_img):\n",
        "    pos = player.pos #get player location\n",
        "    obstacle = data_img[:,:,2].astype(int) # get grid indicating where objects are\n",
        "    covered = (data_img[:,:,1]).astype(int) # get grid indicating which areas have been covered and how much latency is there\n",
        "    # covered[data_img[:,:,1] == 255] = 0\n",
        "    cost_grid = obstacle*10 + covered # give high cost to obstacles\n",
        "\n",
        "    # if the last action is not recorded, move to left or right as per the row\n",
        "    action_list = ['right', 'down', 'left', 'up']\n",
        "    if player.prev_action == None:\n",
        "        player.prev_action = ['right', 'left'][pos[0]%2]\n",
        "\n",
        "\n",
        "    #######\n",
        "    ## Looks into future move for all 4 directions, move whereever robot would have least cost\n",
        "    temp_action_list = []\n",
        "    temp_cost_list = []\n",
        "    for i in range(4):\n",
        "        new_action = action_list[ (action_list.index(player.prev_action) + i) % 4 ]\n",
        "        move = move_dict[ new_action ]\n",
        "        \n",
        "        temp_pos = pos + move\n",
        "        # print('CHECK: ', pos, temp_pos, new_action)\n",
        "        if not is_valid(temp_pos, data_img.shape[:2]):\n",
        "            # print('NOT Valid: ', pos, temp_pos)\n",
        "            temp_action_list.append(new_action)\n",
        "            temp_cost_list.append(50000)\n",
        "            # continue\n",
        "        else:\n",
        "            # if (covered[temp_pos[0], temp_pos[1]] == 1) or (obstacle[temp_pos[0], temp_pos[1]] == 1):\n",
        "            temp_action_list.append(new_action)\n",
        "            temp_cost = np.sum(cost_grid[max(0,temp_pos[0]-player.size):min(temp_pos[0]+player.size, data_img.shape[0]), \n",
        "                                         max(0, temp_pos[1]-player.size): min(temp_pos[1]+player.size,data_img.shape[1])])\n",
        "            temp_cost_list.append(temp_cost)\n",
        "\n",
        "                # print('OCCUPIED: ', covered[temp_pos[0], temp_pos[1]], obstacle[temp_pos[0], temp_pos[1]] )\n",
        "            #     continue\n",
        "            # else:\n",
        "            #     break\n",
        "\n",
        "    # print('Costs: ', temp_cost_list)\n",
        "    # print('Actions: ', temp_action_list)\n",
        "\n",
        "    # Choose next action based on where the cost would be least\n",
        "    new_action = temp_action_list[np.argmin(temp_cost_list)]\n",
        "    temp_pos = pos + move_dict[ new_action ]\n",
        "\n",
        "    # update last action\n",
        "    player.prev_action = new_action\n",
        "    \n",
        "    # if teh move is not valid, do not move\n",
        "    if not is_valid(temp_pos, data_img.shape[:2]):\n",
        "        temp_pos = pos\n",
        "        \n",
        "    return temp_pos\n"
      ],
      "execution_count": null,
      "outputs": []
    },
    {
      "cell_type": "code",
      "metadata": {
        "id": "u-bYqi6N-KPb"
      },
      "source": [
        "### Envoronemtn image as a numpy array\n",
        "data_img = np.zeros(canvas.grid.shape+(3,))\n",
        "# data_img = init_env(canvas, playerList, obstacleList, droneList)\n",
        "### Coverage information\n",
        "coverage = np.zeros(canvas.grid.shape, dtype=np.uint8)\n",
        "#### Drone Map\n",
        "drone_map = np.zeros(canvas.grid.shape+(3,), dtype=np.uint8)\n",
        "## Run for 300 iterations\n",
        "latency_factor = 2\n",
        "for i in range(300):\n",
        "\n",
        "    ### Get next location for each robot\n",
        "    for player in playerList:\n",
        "        # Form 1: use position dircetly\n",
        "        # player.pos = (x,y)\n",
        "\n",
        "        # Form 2: use move function with size and canvas\n",
        "        # player.move(np.random.choice(['up', 'down', 'left', 'right']), player.size, canvas)\n",
        "\n",
        "        # player.pos = lawn_mover(player, data_img)\n",
        "        player.pos = greedy_algorithm(player, data_img)\n",
        "        # player.move(np.random.choice(['up', 'down', 'left', 'right']), player.size, canvas)\n",
        "\n",
        "    ### Get next location for the drone\n",
        "    for drone in droneList:\n",
        "         drone.move(np.random.choice(['up', 'down', 'left', 'right']), drone.size//10, canvas)   \n",
        "\n",
        "    update_all(canvas, playerList, obstacleList, droneList) \n",
        "\n",
        "\n",
        "    covergae, data_img = process_screen(my_coverage=coverage, my_canvas=canvas)\n",
        "    obstacle_map = get_obstacles(data_img)\n",
        "    \n",
        "    # drone_map = get_droneview(drone_map, data_img, latency_factor)\n",
        "    drone_map = get_droneview(drone_map, data_img, latency_factor, droneList)\n",
        "    #Display image, clear cell every 0.5 seconds\n",
        "    #convert image so it can be displayed in OpenCV\n",
        "    ## UNCOMMENT IN CASE OF ISSUE\n",
        "    # view = pygame.surfarray.array3d(canvas.screen)\n",
        "    \n",
        "    #  convert from (width, height, channel) to (height, width, channel)\n",
        "    ## UNCOMMENT  NEXT 2 LINES IN CASE OF ERROR\n",
        "    # view = view.transpose([1, 0, 2])\n",
        "    # img_bgr = cv2.cvtColor(view, cv2.COLOR_RGB2BGR)\n",
        "\n",
        "    # cv2_imshow(data_img) #img_bgr[yv, xv])\n",
        "    print('\\t\\t Environment \\t\\t\\t Drone View ')\n",
        "    cv2_imshow(np.hstack([data_img, drone_map]))\n",
        "    print('\\t\\t Coverage \\t\\t\\t Obstacles ')\n",
        "    cv2_imshow(np.hstack([coverage, 255*obstacle_map]))\n",
        "    \n",
        "\n",
        "    ## Wait 0.1 second before running next iteration\n",
        "    time.sleep(0.1)\n",
        "    output.clear()\n",
        "\n",
        "    # if i == 3:\n",
        "    #     break\n",
        "\n"
      ],
      "execution_count": null,
      "outputs": []
    },
    {
      "cell_type": "markdown",
      "metadata": {
        "id": "oChiLXbJUUdJ"
      },
      "source": [
        "## Gym like Env"
      ]
    },
    {
      "cell_type": "code",
      "metadata": {
        "colab": {
          "base_uri": "https://localhost:8080/"
        },
        "id": "4uZ0pOWcUUIM",
        "outputId": "ad6f7fb4-c2dc-4e5d-94c6-aed1eda28951"
      },
      "source": [
        "## Get the required python files\n",
        "!wget https://raw.githubusercontent.com/kulbir-ahluwalia/CMSC818B_MiniProject_2/main/python/actors.py\n",
        "!wget https://raw.githubusercontent.com/kulbir-ahluwalia/CMSC818B_MiniProject_2/main/python/pm_env.py\n",
        "!wget https://raw.githubusercontent.com/kulbir-ahluwalia/CMSC818B_MiniProject_2/main/python/custom_algorithms.py\n"
      ],
      "execution_count": null,
      "outputs": [
        {
          "output_type": "stream",
          "text": [
            "--2020-12-05 15:30:41--  https://raw.githubusercontent.com/kulbir-ahluwalia/CMSC818B_MiniProject_2/main/python/actors.py\n",
            "Resolving raw.githubusercontent.com (raw.githubusercontent.com)... 151.101.0.133, 151.101.64.133, 151.101.128.133, ...\n",
            "Connecting to raw.githubusercontent.com (raw.githubusercontent.com)|151.101.0.133|:443... connected.\n",
            "HTTP request sent, awaiting response... 200 OK\n",
            "Length: 5622 (5.5K) [text/plain]\n",
            "Saving to: ‘actors.py’\n",
            "\n",
            "\ractors.py             0%[                    ]       0  --.-KB/s               \ractors.py           100%[===================>]   5.49K  --.-KB/s    in 0s      \n",
            "\n",
            "2020-12-05 15:30:41 (72.5 MB/s) - ‘actors.py’ saved [5622/5622]\n",
            "\n",
            "--2020-12-05 15:30:41--  https://raw.githubusercontent.com/kulbir-ahluwalia/CMSC818B_MiniProject_2/main/python/pm_env.py\n",
            "Resolving raw.githubusercontent.com (raw.githubusercontent.com)... 151.101.0.133, 151.101.64.133, 151.101.128.133, ...\n",
            "Connecting to raw.githubusercontent.com (raw.githubusercontent.com)|151.101.0.133|:443... connected.\n",
            "HTTP request sent, awaiting response... 200 OK\n",
            "Length: 6874 (6.7K) [text/plain]\n",
            "Saving to: ‘pm_env.py’\n",
            "\n",
            "pm_env.py           100%[===================>]   6.71K  --.-KB/s    in 0s      \n",
            "\n",
            "2020-12-05 15:30:41 (76.1 MB/s) - ‘pm_env.py’ saved [6874/6874]\n",
            "\n"
          ],
          "name": "stdout"
        }
      ]
    },
    {
      "cell_type": "code",
      "metadata": {
        "id": "f0rXabCECEm3",
        "colab": {
          "base_uri": "https://localhost:8080/"
        },
        "outputId": "305370f8-d0cc-4150-ea6c-a3ea3999ca79"
      },
      "source": [
        "!pip install gym\n",
        "!pip install pygame"
      ],
      "execution_count": null,
      "outputs": [
        {
          "output_type": "stream",
          "text": [
            "Requirement already satisfied: gym in /usr/local/lib/python3.6/dist-packages (0.17.3)\n",
            "Requirement already satisfied: scipy in /usr/local/lib/python3.6/dist-packages (from gym) (1.4.1)\n",
            "Requirement already satisfied: pyglet<=1.5.0,>=1.4.0 in /usr/local/lib/python3.6/dist-packages (from gym) (1.5.0)\n",
            "Requirement already satisfied: cloudpickle<1.7.0,>=1.2.0 in /usr/local/lib/python3.6/dist-packages (from gym) (1.3.0)\n",
            "Requirement already satisfied: numpy>=1.10.4 in /usr/local/lib/python3.6/dist-packages (from gym) (1.18.5)\n",
            "Requirement already satisfied: future in /usr/local/lib/python3.6/dist-packages (from pyglet<=1.5.0,>=1.4.0->gym) (0.16.0)\n",
            "Requirement already satisfied: pygame in /usr/local/lib/python3.6/dist-packages (2.0.0)\n"
          ],
          "name": "stdout"
        }
      ]
    },
    {
      "cell_type": "code",
      "metadata": {
        "id": "E83rv_WjDzHh"
      },
      "source": [
        "%load_ext autoreload\n",
        "%autoreload 2"
      ],
      "execution_count": null,
      "outputs": []
    },
    {
      "cell_type": "code",
      "metadata": {
        "id": "eBorTJq8Ugg8"
      },
      "source": [
        "import gym\n",
        "from gym import spaces"
      ],
      "execution_count": null,
      "outputs": []
    },
    {
      "cell_type": "code",
      "metadata": {
        "colab": {
          "base_uri": "https://localhost:8080/"
        },
        "id": "cQWaZjwGUnzW",
        "outputId": "3f172087-b699-4c47-92b5-6f820a72dc18"
      },
      "source": [
        "import cv2\n",
        "import numpy as np\n",
        "from google.colab.patches import cv2_imshow\n",
        "from google.colab import output\n",
        "import time \n",
        "import os, sys\n",
        "import pygame\n",
        "\n",
        "\n",
        "# set SDL to use the dummy NULL video driver, \n",
        "#   so it doesn't need a windowing system.\n",
        "os.environ[\"SDL_VIDEODRIVER\"] = \"dummy\""
      ],
      "execution_count": null,
      "outputs": [
        {
          "output_type": "stream",
          "text": [
            "pygame 2.0.0 (SDL 2.0.12, python 3.6.9)\n",
            "Hello from the pygame community. https://www.pygame.org/contribute.html\n"
          ],
          "name": "stdout"
        }
      ]
    },
    {
      "cell_type": "code",
      "metadata": {
        "id": "iXOUZ8WHUnlO"
      },
      "source": [
        "## Import classes for elements and visualization\n",
        "from actors import Player, Obstacle, Drone\n",
        "from pm_env import Canvas, process_into_image, process_img, get_obstacles, get_droneview, update_all, process_screen"
      ],
      "execution_count": null,
      "outputs": []
    },
    {
      "cell_type": "markdown",
      "metadata": {
        "id": "otIxnFshV0fu"
      },
      "source": [
        "### Greedy Algorithm"
      ]
    },
    {
      "cell_type": "code",
      "metadata": {
        "id": "OTfv8Z2PVz_s"
      },
      "source": [
        "# pygame.init()\n",
        "\n",
        "## Step size. How many grids would the robot move at each step\n",
        "step_size = 10\n",
        "\n",
        "## the dictionary defniing how many to update the location\n",
        "move_dict = {\n",
        "    'left' : np.array([0, -step_size]),\n",
        "    'up' : np.array([-step_size,0]),\n",
        "    'right' : np.array([0, step_size]),\n",
        "    'down' : np.array([step_size,0])\n",
        "}\n",
        "\n",
        "## Function to check if a location is valid (within grid)\n",
        "def is_valid(pos, limits):\n",
        "    if ((pos[0] < 0) or (pos[1] < 0) or (pos[0] >= limits[0]) or (pos[1] >= limits[1])):\n",
        "        return False\n",
        "    else:\n",
        "        return True\n",
        "\n",
        "## Greedy algorithm (distributed)\n",
        "def greedy_algorithm(player, data_img):\n",
        "    pos = player.pos #get player location\n",
        "    obstacle = data_img[:,:,2].astype(int) # get grid indicating where objects are\n",
        "    covered = (data_img[:,:,1]).astype(int) # get grid indicating which areas have been covered and how much latency is there\n",
        "    # covered[data_img[:,:,1] == 255] = 0\n",
        "    cost_grid = obstacle*10 + covered # give high cost to obstacles\n",
        "\n",
        "    # if the last action is not recorded, move to left or right as per the row\n",
        "    action_list = ['right', 'down', 'left', 'up']\n",
        "    if player.prev_action == None:\n",
        "        player.prev_action = ['right', 'left'][pos[0]%2]\n",
        "\n",
        "\n",
        "    #######\n",
        "    ## Looks into future move for all 4 directions, move whereever robot would have least cost\n",
        "    temp_action_list = []\n",
        "    temp_cost_list = []\n",
        "    for i in range(4):\n",
        "        new_action = action_list[ (action_list.index(player.prev_action) + i) % 4 ]\n",
        "        move = move_dict[ new_action ]\n",
        "        \n",
        "        temp_pos = pos + move\n",
        "        # print('CHECK: ', pos, temp_pos, new_action)\n",
        "        if not is_valid(temp_pos, data_img.shape[:2]):\n",
        "            # print('NOT Valid: ', pos, temp_pos)\n",
        "            temp_action_list.append(new_action)\n",
        "            temp_cost_list.append(50000)\n",
        "            # continue\n",
        "        else:\n",
        "            # if (covered[temp_pos[0], temp_pos[1]] == 1) or (obstacle[temp_pos[0], temp_pos[1]] == 1):\n",
        "            temp_action_list.append(new_action)\n",
        "            temp_cost = np.sum(cost_grid[max(0,temp_pos[0]-player.size):min(temp_pos[0]+player.size, data_img.shape[0]), \n",
        "                                         max(0, temp_pos[1]-player.size): min(temp_pos[1]+player.size,data_img.shape[1])])\n",
        "            temp_cost_list.append(temp_cost)\n",
        "\n",
        "\n",
        "    # Choose next action based on where the cost would be least\n",
        "    new_action = temp_action_list[np.argmin(temp_cost_list)]\n",
        "    temp_pos = pos + move_dict[ new_action ]\n",
        "\n",
        "    # update last action\n",
        "    player.prev_action = new_action\n",
        "    \n",
        "    # if teh move is not valid, do not move\n",
        "    if not is_valid(temp_pos, data_img.shape[:2]):\n",
        "        temp_pos = pos\n",
        "        \n",
        "    return temp_pos\n"
      ],
      "execution_count": null,
      "outputs": []
    },
    {
      "cell_type": "markdown",
      "metadata": {
        "id": "JhEwjd0HV1V4"
      },
      "source": [
        "### Environment Definition"
      ]
    },
    {
      "cell_type": "code",
      "metadata": {
        "id": "L3kymvswEZTN"
      },
      "source": [
        "N_DISCRETE_ACTIONS = 4"
      ],
      "execution_count": null,
      "outputs": []
    },
    {
      "cell_type": "code",
      "metadata": {
        "id": "siC8SyiUD6uv"
      },
      "source": [
        "\n",
        "class PMGridEnv(gym.Env):\n",
        "  \"\"\"Custom Environment that follows gym interface\"\"\"\n",
        "  metadata = {'render.modes': ['human']}\n",
        "\n",
        "  def __init__(self, height, width, robot_info, drone_info, num_obstacles, drone_latency):\n",
        "    super(PMGridEnv, self).__init__()\n",
        "    # Define action and observation space\n",
        "    self.action_space = spaces.Discrete(N_DISCRETE_ACTIONS)\n",
        "    # using image as input (can be channel-first or channel-last):\n",
        "    self.observation_space = spaces.Box(low=0, high=255,\n",
        "                                        shape=(height, width, 3), dtype=np.uint8)\n",
        "\n",
        "    # To convert integer actions into string\n",
        "    self.action_list = ['up', 'down', 'left', 'right']\n",
        "\n",
        "    ## Canvas is the grid we are going to use\n",
        "    self.canvas = Canvas(height, width)\n",
        "\n",
        "    self.latency_factor = drone_latency\n",
        "\n",
        "    ## Create the robots\n",
        "    self.playerList = []\n",
        "    for i in range(len(robot_info)//3):\n",
        "        x_loc, y_loc, size = robot_info[3*i : 3*(i+1)]\n",
        "        self.playerList.append(Player(pos=[x_loc, y_loc], color='g', size=size))    \n",
        "    \n",
        "    ### Add drone to the environememnt\n",
        "    self.droneList = []\n",
        "    for i in range(len(drone_info)//3):\n",
        "        x_loc, y_loc, size = drone_info[3*i : 3*(i+1)]\n",
        "        self.droneList.append(Drone(pos=[x_loc, y_loc], color='b',  size=size))\n",
        "\n",
        "    ## Create the obstacle at random locations\n",
        "    self.n_obj = num_obstacles # number of objects\n",
        "    self.obstacleList = []\n",
        "    r_coords = np.random.randint(0, self.canvas.height, (self.n_obj)) # random rows\n",
        "    c_coords = np.random.randint(0, self.canvas.width, (self.n_obj)) # random columns\n",
        "    # Width and height would be chosen from 10,15,20,25,30 randomly\n",
        "    for i in range(len(r_coords)):\n",
        "        self.obstacleList.append(Obstacle(pos=[r_coords[i], c_coords[i]], \n",
        "                                    size=[np.random.choice([10,15,20,25,30]),\n",
        "                                          np.random.choice([10,15,20,25,30])]))\n",
        "\n",
        "    ### Environement image as a numpy array\n",
        "    self.env_img   = np.zeros(self.canvas.grid.shape+(3,), dtype=np.uint8)\n",
        "    ### Coverage information\n",
        "    self.coverage  = np.zeros(self.canvas.grid.shape, dtype=np.uint8)\n",
        "    ### Obstacle map information\n",
        "    self.obstacle_map = np.zeros(self.canvas.grid.shape, dtype=np.uint8)\n",
        "    #### Drone Map\n",
        "    self.drone_map = np.zeros(self.canvas.grid.shape+(3,), dtype=np.uint8)\n",
        "    #### Saving initial state for resets\n",
        "    self.inital_state = [self.playerList.copy(), self.droneList.copy(), self.obstacleList.copy()]\n",
        "\n",
        "    ### Update entites in screen\n",
        "    self.update_all() \n",
        "    self.process_screen()\n",
        "\n",
        "  def step(self, action):\n",
        "    ### Update robots' locations\n",
        "    for player in self.playerList:\n",
        "        # player.pos = lawn_mover(player, data_img)\n",
        "        player.pos = greedy_algorithm(player, self.env_img)\n",
        "        # player.move(np.random.choice(['up', 'down', 'left', 'right']), player.size, canvas)\n",
        "\n",
        "    ### Update drones' locations\n",
        "    for drone in self.droneList:\n",
        "         drone.move(self.action_list[action], drone.size//10, self.canvas)\n",
        "\n",
        "    ### Update graphics\n",
        "    self.update_all() \n",
        "    \n",
        "    ### Get updated coverage and observations\n",
        "    # self.covergae, self.env_img = self.process_screen(my_coverage=self.coverage, my_canvas=self.canvas)\n",
        "    self.process_screen()\n",
        "    '''\n",
        "    ## Get obstacle info\n",
        "    self.obstacle_map = self.get_obstacles(self.env_img)\n",
        "    '''\n",
        "    ### Get drone's view\n",
        "    self.drone_map = self.get_droneview(self.drone_map, self.env_img)\n",
        "    \n",
        "    ### Reward coverage from the drone's view\n",
        "    drone_coverage = self.get_coverage(self.drone_map)\n",
        "    drone_coverage = drone_coverage/255.0\n",
        "    reward = np.sum(drone_coverage)\n",
        "\n",
        "    # Persistent monitoring never stops\n",
        "    done = False\n",
        "\n",
        "    # No info as of now\n",
        "    info = None\n",
        "\n",
        "    # # observation is same as the environment image\n",
        "    # observation = self.env_img\n",
        "\n",
        "    # observation is same as the drone image\n",
        "    observation = self.drone_map\n",
        "\n",
        "\n",
        "    return observation, reward, done, info\n",
        "\n",
        "  def reset(self):\n",
        "    self.playerList, self.droneList, self.obstacleList = self.inital_state\n",
        "    \n",
        "    self.process_screen()\n",
        "\n",
        "    return self.env_img  # reward, done, info can't be included\n",
        "\n",
        "  def render(self, mode='human'):\n",
        "    output.clear()\n",
        "    vertical_var = np.full((self.env_img.shape[0],10,3), 128, dtype=np.uint8)\n",
        "    # cv2_imshow(data_img) #img_bgr[yv, xv])\n",
        "    print('\\t\\t Environment \\t\\t\\t Drone View ')\n",
        "    cv2_imshow(np.hstack([self.env_img, vertical_var, self.drone_map]))\n",
        "    # print('\\t\\t Coverage \\t\\t\\t Obstacles ')\n",
        "    # cv2_imshow(np.hstack([self.coverage, 255*self.obstacle_map]))\n",
        "    print('\\t\\t Coverage \\t\\t\\t Drone Coverage ')\n",
        "    cv2_imshow(np.hstack([self.coverage, vertical_var[:,:,0], self.drone_map[:,:,1]]))\n",
        "\n",
        "\n",
        "  def close (self):\n",
        "    pygame.close()\n",
        "\n",
        "  def get_action_space(self):\n",
        "      return self.action_space\n",
        "\n",
        "  def update_all(self):\n",
        "    ## Update the environment\n",
        "    patch = self.canvas.update()\n",
        "    \n",
        "    ## Update the drone\n",
        "    for drone in self.droneList:\n",
        "        patch = drone.update(self.canvas)\n",
        "    \n",
        "    ## Update the robot locations\n",
        "    for player in self.playerList:\n",
        "        patch = player.update(self.canvas)\n",
        "\n",
        "    ## Update the obstacles\n",
        "    for obstacle in self.obstacleList:\n",
        "        patch = obstacle.update(self.canvas)  \n",
        "\n",
        "\n",
        "  def process_into_image(self):\n",
        "    grid = self.canvas.grid.copy()\n",
        "    player_area = np.zeros(self.canvas.grid.shape, dtype=int)\n",
        "    obstacle_area = np.zeros(self.canvas.grid.shape, dtype=int)\n",
        "    drone_area =  np.zeros(self.canvas.grid.shape, dtype=int)\n",
        "\n",
        "    for player in self.playerList:\n",
        "        radius = player.size\n",
        "        center = player.pos\n",
        "\n",
        "        xv, yv = np.meshgrid(range(-radius, radius+1), range(-radius, radius+1), sparse=False, indexing='ij')\n",
        "        valid_array = (xv**2 + yv**2 <= radius**2).astype(int)\n",
        "        \n",
        "        pos_array =  np.stack([xv, yv], axis=-1) + center\n",
        "\n",
        "        r_ind_min = max(0, -(center[0]-radius))\n",
        "        c_ind_min = max(0, -(center[1]-radius))\n",
        "\n",
        "        if center[0]+radius+1 <= self.canvas.width:\n",
        "            r_ind_max = 2*radius+1\n",
        "        else:\n",
        "            r_ind_max = -(center[0]+radius -self.canvas.width)-1\n",
        "        \n",
        "        if center[1]+radius+1 <= self.canvas.width:\n",
        "            c_ind_max = 2*radius+1\n",
        "        else:\n",
        "            c_ind_max = -(center[1]+radius - self.canvas.height)-1\n",
        "        \n",
        "        player_area[max(0, center[0]-radius) : min(center[0]+radius+1, self.canvas.width), \n",
        "                    max(0, center[1]-radius) : min(center[1]+radius+1, self.canvas.height)] = valid_array[r_ind_min:r_ind_max, c_ind_min:c_ind_max]\n",
        "        \n",
        "        \n",
        "    for obstacle in self.obstacleList:\n",
        "        corner = obstacle.pos\n",
        "        dimensions = obstacle.size\n",
        "        \n",
        "        obstacle_area[corner[0]:corner[0]+dimensions[0], corner[1]-dimensions[1]:corner[1]] = 1\n",
        "\n",
        "    for drone in self.droneList:\n",
        "        corner = drone.pos\n",
        "        dimensions = drone.size\n",
        "\n",
        "        center = corner - dimensions//2\n",
        "        \n",
        "        drone_area[center[0]:center[0] + dimensions, center[1] - dimensions :center[1]] = 1\n",
        "\n",
        "    return grid*0 + player_area*1 + obstacle_area * 2 + drone_area *3\n",
        "\n",
        "  def process_img(self, coverage, img_bgr):\n",
        "    drone_cover = img_bgr[:,:,0]\n",
        "    \n",
        "    coverage[coverage > 0] -= 5\n",
        "    coverage[coverage < 0] = 0\n",
        "    coverage[img_bgr[:,:,1] == 255] = 255\n",
        "\n",
        "    obstacle = img_bgr[:,:,2]\n",
        "\n",
        "    data_img = np.stack([drone_cover, coverage, obstacle], axis=2)\n",
        "    return data_img, coverage\n",
        "\n",
        "  def process_screen(self):\n",
        "    ### Create the images\n",
        "    pygame.display.flip()\n",
        "    \n",
        "    #convert image so it can be displayed in OpenCV\n",
        "    view = pygame.surfarray.array3d(self.canvas.screen)\n",
        "    #  convert from (width, height, channel) to (height, width, channel)\n",
        "    view = view.transpose([1, 0, 2])\n",
        "\n",
        "    #  convert from rgb to bgr\n",
        "    img_bgr = cv2.cvtColor(view, cv2.COLOR_RGB2BGR)\n",
        "    # Convert from x-y format to row-column format and get images as numpy array\n",
        "    xv, yv = np.meshgrid(range(img_bgr.shape[0]), range(img_bgr.shape[1]), indexing='ij')\n",
        "    self.env_img, self.coverage = self.process_img(self.coverage, img_bgr[yv, xv])\n",
        "    \n",
        "     ## Clip the values to void overflow\n",
        "    self.env_img = np.clip(img_bgr[yv, xv].astype(int) + self.env_img.astype(int), a_min=0, a_max=255)\n",
        "    \n",
        "    ## Update pygame environemnt\n",
        "    surf = pygame.surfarray.make_surface(self.env_img)\n",
        "    self.canvas.screen.blit(surf, (0, 0))\n",
        "    \n",
        "    ## Convert data type from int to bytes\n",
        "    self.env_img = self.env_img.astype(np.uint8)\n",
        "\n",
        "  def get_coverage(self, img_bgr):\n",
        "    return img_bgr[:,:,1].astype(int)\n",
        "\n",
        "  def get_obstacles(self, img_bgr):\n",
        "    return (img_bgr[:,:,2] > 0).astype(int)\n",
        "\n",
        "  def get_droneview(self, drone_map, img_bgr):\n",
        "    prev_map = drone_map.astype(int)\n",
        "    drone_map = np.clip(prev_map-self.latency_factor, 0, 255).astype(np.uint8)\n",
        "    \n",
        "    for drone in self.droneList:\n",
        "        drone_map[drone.pos[0]:drone.pos[0]+drone.size, drone.pos[1]:drone.pos[1]+drone.size,1:] = img_bgr[drone.pos[0]:drone.pos[0]+drone.size, drone.pos[1]:drone.pos[1]+drone.size,1:]\n",
        "   \n",
        "    return drone_map"
      ],
      "execution_count": null,
      "outputs": []
    },
    {
      "cell_type": "markdown",
      "metadata": {
        "id": "Z3DPaOA0REOc"
      },
      "source": [
        "### Running with environment"
      ]
    },
    {
      "cell_type": "code",
      "metadata": {
        "id": "xlFdPTNzNIuZ"
      },
      "source": [
        "height, width = 300, 300\n",
        "robot_info = [20, 10, 10, 0, 260, 10, 200, 10, 10, 250, 200, 10]\n",
        "drone_info = [150, 150, 100]\n",
        "num_obstacles = 40 # number of objects\n",
        "drone_latency = 2\n",
        "\n",
        "env = PMGridEnv(height, width, robot_info, drone_info, num_obstacles, drone_latency)"
      ],
      "execution_count": null,
      "outputs": []
    },
    {
      "cell_type": "code",
      "metadata": {
        "colab": {
          "base_uri": "https://localhost:8080/",
          "height": 1000
        },
        "id": "DlSckRYzNJ9b",
        "outputId": "4db5e933-da48-4078-8e48-3866559c4e7f"
      },
      "source": [
        "for i in range(300):\n",
        "    observation, reward, done, info = env.step(1)\n",
        "    print(reward)\n",
        "    env.render()\n",
        "    time.sleep(0.1)\n",
        "    "
      ],
      "execution_count": null,
      "outputs": [
        {
          "output_type": "stream",
          "text": [
            "\t\t Environment \t\t\t Drone View \n"
          ],
          "name": "stdout"
        },
        {
          "output_type": "display_data",
          "data": {
            "image/png": "[encoded data removed]",
            "text/plain": [
              "<PIL.Image.Image image mode=RGB size=610x300 at 0x7FC8AC943320>"
            ]
          },
          "metadata": {
            "tags": []
          }
        },
        {
          "output_type": "stream",
          "text": [
            "\t\t Coverage \t\t\t Drone Coverage \n"
          ],
          "name": "stdout"
        },
        {
          "output_type": "display_data",
          "data": {
            "image/png": "[encoded data removed]",
            "text/plain": [
              "<PIL.Image.Image image mode=L size=610x300 at 0x7FC8AC943DD8>"
            ]
          },
          "metadata": {
            "tags": []
          }
        },
        {
          "output_type": "error",
          "ename": "KeyboardInterrupt",
          "evalue": "ignored",
          "traceback": [
            "\u001b[0;31m---------------------------------------------------------------------------\u001b[0m",
            "\u001b[0;31mKeyboardInterrupt\u001b[0m                         Traceback (most recent call last)",
            "\u001b[0;32m<ipython-input-12-5d5123b61f55>\u001b[0m in \u001b[0;36m<module>\u001b[0;34m()\u001b[0m\n\u001b[1;32m      1\u001b[0m \u001b[0;32mfor\u001b[0m \u001b[0mi\u001b[0m \u001b[0;32min\u001b[0m \u001b[0mrange\u001b[0m\u001b[0;34m(\u001b[0m\u001b[0;36m300\u001b[0m\u001b[0;34m)\u001b[0m\u001b[0;34m:\u001b[0m\u001b[0;34m\u001b[0m\u001b[0;34m\u001b[0m\u001b[0m\n\u001b[0;32m----> 2\u001b[0;31m     \u001b[0mobservation\u001b[0m\u001b[0;34m,\u001b[0m \u001b[0mreward\u001b[0m\u001b[0;34m,\u001b[0m \u001b[0mdone\u001b[0m\u001b[0;34m,\u001b[0m \u001b[0minfo\u001b[0m \u001b[0;34m=\u001b[0m \u001b[0menv\u001b[0m\u001b[0;34m.\u001b[0m\u001b[0mstep\u001b[0m\u001b[0;34m(\u001b[0m\u001b[0;36m1\u001b[0m\u001b[0;34m)\u001b[0m\u001b[0;34m\u001b[0m\u001b[0;34m\u001b[0m\u001b[0m\n\u001b[0m\u001b[1;32m      3\u001b[0m     \u001b[0mprint\u001b[0m\u001b[0;34m(\u001b[0m\u001b[0mreward\u001b[0m\u001b[0;34m)\u001b[0m\u001b[0;34m\u001b[0m\u001b[0;34m\u001b[0m\u001b[0m\n\u001b[1;32m      4\u001b[0m     \u001b[0menv\u001b[0m\u001b[0;34m.\u001b[0m\u001b[0mrender\u001b[0m\u001b[0;34m(\u001b[0m\u001b[0;34m)\u001b[0m\u001b[0;34m\u001b[0m\u001b[0;34m\u001b[0m\u001b[0m\n\u001b[1;32m      5\u001b[0m     \u001b[0mtime\u001b[0m\u001b[0;34m.\u001b[0m\u001b[0msleep\u001b[0m\u001b[0;34m(\u001b[0m\u001b[0;36m0.1\u001b[0m\u001b[0;34m)\u001b[0m\u001b[0;34m\u001b[0m\u001b[0;34m\u001b[0m\u001b[0m\n",
            "\u001b[0;32m<ipython-input-9-065bfa57ce8e>\u001b[0m in \u001b[0;36mstep\u001b[0;34m(self, action)\u001b[0m\n\u001b[1;32m     74\u001b[0m     \u001b[0;31m### Get updated coverage and observations\u001b[0m\u001b[0;34m\u001b[0m\u001b[0;34m\u001b[0m\u001b[0;34m\u001b[0m\u001b[0m\n\u001b[1;32m     75\u001b[0m     \u001b[0;31m# self.covergae, self.env_img = self.process_screen(my_coverage=self.coverage, my_canvas=self.canvas)\u001b[0m\u001b[0;34m\u001b[0m\u001b[0;34m\u001b[0m\u001b[0;34m\u001b[0m\u001b[0m\n\u001b[0;32m---> 76\u001b[0;31m     \u001b[0mself\u001b[0m\u001b[0;34m.\u001b[0m\u001b[0mprocess_screen\u001b[0m\u001b[0;34m(\u001b[0m\u001b[0;34m)\u001b[0m\u001b[0;34m\u001b[0m\u001b[0;34m\u001b[0m\u001b[0m\n\u001b[0m\u001b[1;32m     77\u001b[0m     '''\n\u001b[1;32m     78\u001b[0m     \u001b[0;31m## Get obstacle info\u001b[0m\u001b[0;34m\u001b[0m\u001b[0;34m\u001b[0m\u001b[0;34m\u001b[0m\u001b[0m\n",
            "\u001b[0;32m<ipython-input-9-065bfa57ce8e>\u001b[0m in \u001b[0;36mprocess_screen\u001b[0;34m(self)\u001b[0m\n\u001b[1;32m    213\u001b[0m \u001b[0;34m\u001b[0m\u001b[0m\n\u001b[1;32m    214\u001b[0m      \u001b[0;31m## Clip the values to void overflow\u001b[0m\u001b[0;34m\u001b[0m\u001b[0;34m\u001b[0m\u001b[0;34m\u001b[0m\u001b[0m\n\u001b[0;32m--> 215\u001b[0;31m     \u001b[0mself\u001b[0m\u001b[0;34m.\u001b[0m\u001b[0menv_img\u001b[0m \u001b[0;34m=\u001b[0m \u001b[0mnp\u001b[0m\u001b[0;34m.\u001b[0m\u001b[0mclip\u001b[0m\u001b[0;34m(\u001b[0m\u001b[0mimg_bgr\u001b[0m\u001b[0;34m[\u001b[0m\u001b[0myv\u001b[0m\u001b[0;34m,\u001b[0m \u001b[0mxv\u001b[0m\u001b[0;34m]\u001b[0m\u001b[0;34m.\u001b[0m\u001b[0mastype\u001b[0m\u001b[0;34m(\u001b[0m\u001b[0mint\u001b[0m\u001b[0;34m)\u001b[0m \u001b[0;34m+\u001b[0m \u001b[0mself\u001b[0m\u001b[0;34m.\u001b[0m\u001b[0menv_img\u001b[0m\u001b[0;34m.\u001b[0m\u001b[0mastype\u001b[0m\u001b[0;34m(\u001b[0m\u001b[0mint\u001b[0m\u001b[0;34m)\u001b[0m\u001b[0;34m,\u001b[0m \u001b[0ma_min\u001b[0m\u001b[0;34m=\u001b[0m\u001b[0;36m0\u001b[0m\u001b[0;34m,\u001b[0m \u001b[0ma_max\u001b[0m\u001b[0;34m=\u001b[0m\u001b[0;36m255\u001b[0m\u001b[0;34m)\u001b[0m\u001b[0;34m\u001b[0m\u001b[0;34m\u001b[0m\u001b[0m\n\u001b[0m\u001b[1;32m    216\u001b[0m \u001b[0;34m\u001b[0m\u001b[0m\n\u001b[1;32m    217\u001b[0m     \u001b[0;31m## Update pygame environemnt\u001b[0m\u001b[0;34m\u001b[0m\u001b[0;34m\u001b[0m\u001b[0;34m\u001b[0m\u001b[0m\n",
            "\u001b[0;31mKeyboardInterrupt\u001b[0m: "
          ]
        }
      ]
    },
    {
      "cell_type": "code",
      "metadata": {
        "colab": {
          "base_uri": "https://localhost:8080/",
          "height": 317
        },
        "id": "6F4RsiB8RgmD",
        "outputId": "f3d59d07-86d6-4a0b-86b2-edbf16f99061"
      },
      "source": [
        "env.reset()\n",
        "cv2_imshow(env.env_img)"
      ],
      "execution_count": null,
      "outputs": [
        {
          "output_type": "display_data",
          "data": {
            "image/png": "[encoded data removed]",
            "text/plain": [
              "<PIL.Image.Image image mode=RGB size=300x300 at 0x7F694C6D7208>"
            ]
          },
          "metadata": {
            "tags": []
          }
        }
      ]
    },
    {
      "cell_type": "markdown",
      "metadata": {
        "id": "jjNKi4aPSraK"
      },
      "source": [
        "# PPO"
      ]
    },
    {
      "cell_type": "markdown",
      "metadata": {
        "id": "hUDmhw3n8gZK"
      },
      "source": [
        "Getting files"
      ]
    },
    {
      "cell_type": "code",
      "metadata": {
        "id": "jeyExiZ-8fdi",
        "colab": {
          "base_uri": "https://localhost:8080/"
        },
        "outputId": "2a2d7226-88ff-4a95-f57e-e7320f707f54"
      },
      "source": [
        "## Get the required python files\n",
        "!wget https://raw.githubusercontent.com/kulbir-ahluwalia/CMSC818B_MiniProject_2/main/python/actors.py\n",
        "!wget https://raw.githubusercontent.com/kulbir-ahluwalia/CMSC818B_MiniProject_2/main/python/pm_env.py\n",
        "!wget https://raw.githubusercontent.com/kulbir-ahluwalia/CMSC818B_MiniProject_2/main/python/PPO_agent.py\n",
        "!wget https://raw.githubusercontent.com/kulbir-ahluwalia/CMSC818B_MiniProject_2/main/python/constants.py\n",
        "!wget https://raw.githubusercontent.com/kulbir-ahluwalia/CMSC818B_MiniProject_2/main/python/Train.py\n",
        "!wget https://raw.githubusercontent.com/kulbir-ahluwalia/CMSC818B_MiniProject_2/main/python/custom_algorithms.py"
      ],
      "execution_count": null,
      "outputs": [
        {
          "output_type": "stream",
          "text": [
            "--2020-12-06 00:21:05--  https://raw.githubusercontent.com/kulbir-ahluwalia/CMSC818B_MiniProject_2/main/python/actors.py\n",
            "Resolving raw.githubusercontent.com (raw.githubusercontent.com)... 151.101.0.133, 151.101.64.133, 151.101.128.133, ...\n",
            "Connecting to raw.githubusercontent.com (raw.githubusercontent.com)|151.101.0.133|:443... connected.\n",
            "HTTP request sent, awaiting response... 200 OK\n",
            "Length: 5622 (5.5K) [text/plain]\n",
            "Saving to: ‘actors.py.1’\n",
            "\n",
            "\ractors.py.1           0%[                    ]       0  --.-KB/s               \ractors.py.1         100%[===================>]   5.49K  --.-KB/s    in 0s      \n",
            "\n",
            "2020-12-06 00:21:05 (65.9 MB/s) - ‘actors.py.1’ saved [5622/5622]\n",
            "\n",
            "--2020-12-06 00:21:05--  https://raw.githubusercontent.com/kulbir-ahluwalia/CMSC818B_MiniProject_2/main/python/pm_env.py\n",
            "Resolving raw.githubusercontent.com (raw.githubusercontent.com)... 151.101.0.133, 151.101.64.133, 151.101.128.133, ...\n",
            "Connecting to raw.githubusercontent.com (raw.githubusercontent.com)|151.101.0.133|:443... connected.\n",
            "HTTP request sent, awaiting response... 200 OK\n",
            "Length: 15896 (16K) [text/plain]\n",
            "Saving to: ‘pm_env.py.1’\n",
            "\n",
            "pm_env.py.1         100%[===================>]  15.52K  --.-KB/s    in 0s      \n",
            "\n",
            "2020-12-06 00:21:05 (141 MB/s) - ‘pm_env.py.1’ saved [15896/15896]\n",
            "\n",
            "--2020-12-06 00:21:06--  https://raw.githubusercontent.com/kulbir-ahluwalia/CMSC818B_MiniProject_2/main/python/PPO_agent.py\n",
            "Resolving raw.githubusercontent.com (raw.githubusercontent.com)... 151.101.0.133, 151.101.64.133, 151.101.128.133, ...\n",
            "Connecting to raw.githubusercontent.com (raw.githubusercontent.com)|151.101.0.133|:443... connected.\n",
            "HTTP request sent, awaiting response... 200 OK\n",
            "Length: 12479 (12K) [text/plain]\n",
            "Saving to: ‘PPO_agent.py’\n",
            "\n",
            "PPO_agent.py        100%[===================>]  12.19K  --.-KB/s    in 0.001s  \n",
            "\n",
            "2020-12-06 00:21:06 (14.7 MB/s) - ‘PPO_agent.py’ saved [12479/12479]\n",
            "\n",
            "--2020-12-06 00:21:06--  https://raw.githubusercontent.com/kulbir-ahluwalia/CMSC818B_MiniProject_2/main/python/constants.py\n",
            "Resolving raw.githubusercontent.com (raw.githubusercontent.com)... 151.101.0.133, 151.101.64.133, 151.101.128.133, ...\n",
            "Connecting to raw.githubusercontent.com (raw.githubusercontent.com)|151.101.0.133|:443... connected.\n",
            "HTTP request sent, awaiting response... 200 OK\n",
            "Length: 232 [text/plain]\n",
            "Saving to: ‘constants.py.1’\n",
            "\n",
            "constants.py.1      100%[===================>]     232  --.-KB/s    in 0s      \n",
            "\n",
            "2020-12-06 00:21:06 (14.1 MB/s) - ‘constants.py.1’ saved [232/232]\n",
            "\n",
            "--2020-12-06 00:21:06--  https://raw.githubusercontent.com/kulbir-ahluwalia/CMSC818B_MiniProject_2/main/python/Train.py\n",
            "Resolving raw.githubusercontent.com (raw.githubusercontent.com)... 151.101.0.133, 151.101.64.133, 151.101.128.133, ...\n",
            "Connecting to raw.githubusercontent.com (raw.githubusercontent.com)|151.101.0.133|:443... connected.\n",
            "HTTP request sent, awaiting response... 200 OK\n",
            "Length: 4118 (4.0K) [text/plain]\n",
            "Saving to: ‘Train.py.1’\n",
            "\n",
            "Train.py.1          100%[===================>]   4.02K  --.-KB/s    in 0s      \n",
            "\n",
            "2020-12-06 00:21:06 (72.2 MB/s) - ‘Train.py.1’ saved [4118/4118]\n",
            "\n",
            "--2020-12-06 00:21:06--  https://raw.githubusercontent.com/kulbir-ahluwalia/CMSC818B_MiniProject_2/main/python/custom_algorithms.py\n",
            "Resolving raw.githubusercontent.com (raw.githubusercontent.com)... 151.101.0.133, 151.101.64.133, 151.101.128.133, ...\n",
            "Connecting to raw.githubusercontent.com (raw.githubusercontent.com)|151.101.0.133|:443... connected.\n",
            "HTTP request sent, awaiting response... 200 OK\n",
            "Length: 2681 (2.6K) [text/plain]\n",
            "Saving to: ‘custom_algorithms.py.1’\n",
            "\n",
            "custom_algorithms.p 100%[===================>]   2.62K  --.-KB/s    in 0s      \n",
            "\n",
            "2020-12-06 00:21:06 (69.5 MB/s) - ‘custom_algorithms.py.1’ saved [2681/2681]\n",
            "\n"
          ],
          "name": "stdout"
        }
      ]
    },
    {
      "cell_type": "code",
      "metadata": {
        "colab": {
          "base_uri": "https://localhost:8080/"
        },
        "id": "kE_P55xVZoDh",
        "outputId": "60927056-40a2-4836-89b6-072fc5f2fb35"
      },
      "source": [
        "!pip install pygame\n",
        "!pip install gym"
      ],
      "execution_count": null,
      "outputs": [
        {
          "output_type": "stream",
          "text": [
            "Requirement already satisfied: pygame in /usr/local/lib/python3.6/dist-packages (2.0.0)\n",
            "Requirement already satisfied: gym in /usr/local/lib/python3.6/dist-packages (0.17.3)\n",
            "Requirement already satisfied: scipy in /usr/local/lib/python3.6/dist-packages (from gym) (1.4.1)\n",
            "Requirement already satisfied: cloudpickle<1.7.0,>=1.2.0 in /usr/local/lib/python3.6/dist-packages (from gym) (1.3.0)\n",
            "Requirement already satisfied: numpy>=1.10.4 in /usr/local/lib/python3.6/dist-packages (from gym) (1.18.5)\n",
            "Requirement already satisfied: pyglet<=1.5.0,>=1.4.0 in /usr/local/lib/python3.6/dist-packages (from gym) (1.5.0)\n",
            "Requirement already satisfied: future in /usr/local/lib/python3.6/dist-packages (from pyglet<=1.5.0,>=1.4.0->gym) (0.16.0)\n"
          ],
          "name": "stdout"
        }
      ]
    },
    {
      "cell_type": "code",
      "metadata": {
        "id": "-UgMTaq3gN6S"
      },
      "source": [
        "!mkdir checkpoints"
      ],
      "execution_count": null,
      "outputs": []
    },
    {
      "cell_type": "code",
      "metadata": {
        "id": "jatfCzMbWgBS"
      },
      "source": [
        "from google.colab.patches import cv2_imshow\n",
        "from google.colab import output\n",
        "import time \n",
        "import os, sys\n",
        "\n",
        "# set SDL to use the dummy NULL video driver, \n",
        "#   so it doesn't need a windowing system.\n",
        "os.environ[\"SDL_VIDEODRIVER\"] = \"dummy\""
      ],
      "execution_count": null,
      "outputs": []
    },
    {
      "cell_type": "code",
      "metadata": {
        "id": "rlF_0xI08tZ_",
        "colab": {
          "base_uri": "https://localhost:8080/"
        },
        "outputId": "7e1fe1a7-fbce-443a-f25b-b1c2bb1496ac"
      },
      "source": [
        "from PPO_agent import *\n",
        "from pm_env import PMGridEnv"
      ],
      "execution_count": null,
      "outputs": [
        {
          "output_type": "stream",
          "text": [
            "pygame 2.0.0 (SDL 2.0.12, python 3.6.9)\n",
            "Hello from the pygame community. https://www.pygame.org/contribute.html\n"
          ],
          "name": "stdout"
        }
      ]
    },
    {
      "cell_type": "code",
      "metadata": {
        "id": "4rsUfqWLgMUZ"
      },
      "source": [
        ""
      ],
      "execution_count": null,
      "outputs": []
    },
    {
      "cell_type": "code",
      "metadata": {
        "id": "FeojcIB189_N"
      },
      "source": [
        "from torchsummary import summary"
      ],
      "execution_count": null,
      "outputs": []
    },
    {
      "cell_type": "code",
      "metadata": {
        "colab": {
          "base_uri": "https://localhost:8080/"
        },
        "id": "TcuJz1PgiQvP",
        "outputId": "7f946f21-7f0a-4475-dca5-cad1be5deb5c"
      },
      "source": [
        "import warnings\n",
        "\n",
        "warnings.filterwarnings('ignore')\n",
        "\n",
        "import numpy as np\n",
        "# from env import Env\n",
        "from tqdm import tqdm\n",
        "import cv2\n",
        "from collections import defaultdict\n",
        "from time import time as t\n",
        "\n",
        "\n",
        "### change name from pp_agent to PPO_agent\n",
        "### chnage line 79 to use .n instead of length\n",
        "from PPO_agent import PPO\n",
        "from PPO_agent import Memory\n",
        "from constants import CONSTANTS\n",
        "\n",
        "CONST = CONSTANTS()\n",
        "\n",
        "np.set_printoptions(threshold=np.inf, linewidth=1000, precision=3, suppress=True)\n",
        "\n",
        "\n",
        "\n",
        "# env = Env()\n",
        "height, width = 300, 300\n",
        "robot_info = [20, 10, 10, 0, 260, 10, 200, 10, 10, 250, 200, 10]\n",
        "drone_info = [150, 150, 100]\n",
        "num_obstacles = 40 # number of objects\n",
        "drone_latency = 2\n",
        "\n",
        "env = PMGridEnv(height, width, robot_info, drone_info, num_obstacles, drone_latency)\n",
        "\n",
        "memory = Memory(CONST.NUM_AGENTS)\n",
        "rlAgent = PPO(env)"
      ],
      "execution_count": null,
      "outputs": [
        {
          "output_type": "stream",
          "text": [
            "Log Dir: tf_log/demo_CNN20\n"
          ],
          "name": "stdout"
        }
      ]
    },
    {
      "cell_type": "markdown",
      "metadata": {
        "id": "OqdPo25hXK76"
      },
      "source": [
        "### PPO Training"
      ]
    },
    {
      "cell_type": "code",
      "metadata": {
        "id": "wVpBWq569o1t"
      },
      "source": [
        "\n",
        "NUM_EPISODES = 30000\n",
        "LEN_EPISODES = 1000\n",
        "UPDATE_TIMESTEP = 500# 1000\n",
        "curState = []\n",
        "newState = []\n",
        "reward_history = []\n",
        "agent_history_dict = defaultdict(list)\n",
        "totalViewed = []\n",
        "dispFlag = False\n",
        "\n",
        "# curRawState = env.reset()\n",
        "# curState = rlAgent.formatInput(curRawState)\n",
        "# rlAgent.summaryWriter_showNetwork(curState[0])\n",
        "\n",
        "keyPress = 0\n",
        "timestep = 0\n",
        "loss = None\n"
      ],
      "execution_count": null,
      "outputs": []
    },
    {
      "cell_type": "code",
      "metadata": {
        "colab": {
          "base_uri": "https://localhost:8080/"
        },
        "id": "H-GF8utTivyw",
        "outputId": "88c65d0b-e134-4810-f34c-e09293390270"
      },
      "source": [
        "\n",
        "for episode in tqdm(range(NUM_EPISODES)):\n",
        "    curRawState = env.reset()\n",
        "\n",
        "    # generate state for each agent\n",
        "    # curState = rlAgent.formatInput(curRawState)\n",
        "    curState = np.transpose(curRawState, (2,0,1))[np.newaxis,:,:,:]\n",
        "\n",
        "    episodeReward = 0\n",
        "    epidoseLoss = 0\n",
        "    episodeNewVisited = 0\n",
        "    episodePenalty = 0\n",
        "    agent_episode_reward = [0] * CONST.NUM_AGENTS\n",
        "\n",
        "    for step in range(LEN_EPISODES):\n",
        "        timestep += 1\n",
        "\n",
        "        # render environment after taking a step\n",
        "        keyPress = 1\n",
        "\n",
        "        # if keyPress == 1:\n",
        "            # env.render()\n",
        "\n",
        "        # TODO save video\n",
        "        if episode % 500 in range(10, 15) and step % 4 == 0:\n",
        "            # env.save2Vid(episode, step)\n",
        "            pass\n",
        "        #        a = t()\n",
        "        # Get agent actions\n",
        "        # =============================================================================\n",
        "        #         for i in range(CONST.NUM_AGENTS):\n",
        "        #             action = rlAgent.policy.act(curState[i], memory,i)\n",
        "        #             aActions.append(action)\n",
        "        # =============================================================================\n",
        "        aActions = rlAgent.policy_old.act(curState, memory, CONST.NUM_AGENTS)\n",
        "        #        b = t()\n",
        "        #        print(\"step: \", round(b-a,2))\n",
        "\n",
        "        # do actions\n",
        "\n",
        "        newRawState = env.step(aActions[0])\n",
        "        #        newRawState  = env.step([0])\n",
        "        # agent_pos_list, current_map_state, local_heatmap_list, minimap_list, local_reward_list, shared_reward, done = newRawState\n",
        "        current_map_state, shared_reward, done, _ = newRawState\n",
        "\n",
        "        if step == LEN_EPISODES - 1:\n",
        "            done = True\n",
        "\n",
        "        for agent_index in range(CONST.NUM_AGENTS):\n",
        "            if CONST.isSharedReward:\n",
        "                memory.rewards.append(shared_reward)\n",
        "            else:\n",
        "                memory.rewards.append(local_reward_list[agent_index])\n",
        "            memory.is_terminals.append(done)\n",
        "\n",
        "        # update nextState\n",
        "        # newState = rlAgent.formatInput(newRawState)\n",
        "        newState = np.transpose(current_map_state, (2,0,1))[np.newaxis,:,:,:]\n",
        "\n",
        "        if timestep % UPDATE_TIMESTEP == 0:\n",
        "            loss = rlAgent.update(memory)\n",
        "            memory.clear_memory()\n",
        "            timestep = 0\n",
        "\n",
        "        # print('CHECK:', timestep, len(memory.states))\n",
        "        # record history\n",
        "\n",
        "        for i in range(CONST.NUM_AGENTS):\n",
        "            if CONST.isSharedReward:\n",
        "                agent_episode_reward[i] += shared_reward\n",
        "            else:\n",
        "                agent_episode_reward[i] += local_reward_list[i]\n",
        "        episodeReward += shared_reward\n",
        "        #        print(shared_reward, step)\n",
        "        # set current state for next step\n",
        "        curState = newState\n",
        "\n",
        "        if done:\n",
        "            break\n",
        "\n",
        "    # post episode\n",
        "\n",
        "    # Record history\n",
        "    reward_history.append(episodeReward)\n",
        "\n",
        "    for i in range(CONST.NUM_AGENTS):\n",
        "        agent_history_dict[i].append((agent_episode_reward[i]))\n",
        "\n",
        "    # You may want to plot periodically instead of after every episode\n",
        "    # Otherwise, things will slow\n",
        "    rlAgent.summaryWriter_addMetrics(episode, loss, reward_history, agent_history_dict, LEN_EPISODES)\n",
        "    if episode % 50 == 0:\n",
        "        rlAgent.saveModel(\"checkpoints\")\n",
        "\n",
        "    if episode % 1000 == 0:\n",
        "        rlAgent.saveModel(\"checkpoints\", True, episode)\n",
        "\n",
        "rlAgent.saveModel(\"checkpoints\")\n",
        "env.out.release()"
      ],
      "execution_count": null,
      "outputs": [
        {
          "output_type": "stream",
          "text": [
            "\n",
            "\n",
            "  0%|          | 0/30000 [00:00<?, ?it/s]\u001b[A\u001b[A\n",
            "\n",
            "  0%|          | 1/30000 [00:36<302:31:25, 36.30s/it]\u001b[A\u001b[A\n",
            "\n",
            "  0%|          | 2/30000 [01:11<300:11:12, 36.02s/it]\u001b[A\u001b[A\n",
            "\n",
            "  0%|          | 3/30000 [01:47<298:40:26, 35.84s/it]\u001b[A\u001b[A\n",
            "\n",
            "  0%|          | 4/30000 [02:22<297:23:49, 35.69s/it]\u001b[A\u001b[A\n",
            "\n",
            "  0%|          | 5/30000 [02:57<296:22:39, 35.57s/it]\u001b[A\u001b[A\n",
            "\n",
            "  0%|          | 6/30000 [03:33<295:45:07, 35.50s/it]\u001b[A\u001b[A\n",
            "\n",
            "  0%|          | 7/30000 [04:08<295:56:06, 35.52s/it]\u001b[A\u001b[A\n",
            "\n",
            "  0%|          | 8/30000 [04:44<295:40:09, 35.49s/it]\u001b[A\u001b[A\n",
            "\n",
            "  0%|          | 9/30000 [05:19<294:59:45, 35.41s/it]\u001b[A\u001b[A\n",
            "\n",
            "  0%|          | 10/30000 [05:54<294:48:23, 35.39s/it]\u001b[A\u001b[A\n",
            "\n",
            "  0%|          | 11/30000 [06:29<294:04:59, 35.30s/it]\u001b[A\u001b[A\n",
            "\n",
            "  0%|          | 12/30000 [07:05<294:23:52, 35.34s/it]\u001b[A\u001b[A\n",
            "\n",
            "  0%|          | 13/30000 [07:40<294:34:47, 35.36s/it]\u001b[A\u001b[A\n",
            "\n",
            "  0%|          | 14/30000 [08:16<295:50:32, 35.52s/it]\u001b[A\u001b[A\n",
            "\n",
            "  0%|          | 15/30000 [08:52<296:24:20, 35.59s/it]\u001b[A\u001b[A\n",
            "\n",
            "  0%|          | 16/30000 [09:28<297:42:34, 35.74s/it]\u001b[A\u001b[A\n",
            "\n",
            "  0%|          | 17/30000 [10:03<296:56:55, 35.65s/it]\u001b[A\u001b[A\n",
            "\n",
            "  0%|          | 18/30000 [10:39<296:13:00, 35.57s/it]\u001b[A\u001b[A\n",
            "\n",
            "  0%|          | 19/30000 [11:14<295:31:45, 35.49s/it]\u001b[A\u001b[A\n",
            "\n",
            "  0%|          | 20/30000 [11:49<294:40:31, 35.38s/it]\u001b[A\u001b[A\n",
            "\n",
            "  0%|          | 21/30000 [12:24<294:33:04, 35.37s/it]\u001b[A\u001b[A\n",
            "\n",
            "  0%|          | 22/30000 [13:00<294:14:15, 35.33s/it]\u001b[A\u001b[A\n",
            "\n",
            "  0%|          | 23/30000 [13:35<293:47:19, 35.28s/it]\u001b[A\u001b[A\n",
            "\n",
            "  0%|          | 24/30000 [14:10<294:37:56, 35.38s/it]\u001b[A\u001b[A\n",
            "\n",
            "  0%|          | 25/30000 [14:46<294:34:03, 35.38s/it]\u001b[A\u001b[A\n",
            "\n",
            "  0%|          | 26/30000 [15:21<294:46:54, 35.40s/it]\u001b[A\u001b[A\n",
            "\n",
            "  0%|          | 27/30000 [15:57<294:47:08, 35.41s/it]\u001b[A\u001b[A\n",
            "\n",
            "  0%|          | 28/30000 [16:32<295:05:38, 35.44s/it]\u001b[A\u001b[A\n",
            "\n",
            "  0%|          | 29/30000 [17:08<295:28:26, 35.49s/it]\u001b[A\u001b[A\n",
            "\n",
            "  0%|          | 30/30000 [17:44<296:01:48, 35.56s/it]\u001b[A\u001b[A\n",
            "\n",
            "  0%|          | 31/30000 [18:19<296:23:05, 35.60s/it]\u001b[A\u001b[A\n",
            "\n",
            "  0%|          | 32/30000 [18:55<297:26:57, 35.73s/it]\u001b[A\u001b[A\n",
            "\n",
            "  0%|          | 33/30000 [19:32<299:08:16, 35.94s/it]\u001b[A\u001b[A\n",
            "\n",
            "  0%|          | 34/30000 [20:08<300:03:10, 36.05s/it]\u001b[A\u001b[A\n",
            "\n",
            "  0%|          | 35/30000 [20:41<293:07:23, 35.22s/it]\u001b[A\u001b[A"
          ],
          "name": "stderr"
        }
      ]
    },
    {
      "cell_type": "code",
      "metadata": {
        "id": "datqfj45jish"
      },
      "source": [
        "timestep, len(memory.states)"
      ],
      "execution_count": null,
      "outputs": []
    },
    {
      "cell_type": "code",
      "metadata": {
        "id": "DZYNMkjhjtjN"
      },
      "source": [
        "minibatch_sz = CONST.NUM_AGENTS * CONST.LEN_EPISODE"
      ],
      "execution_count": null,
      "outputs": []
    },
    {
      "cell_type": "code",
      "metadata": {
        "id": "F4gSz5lrlD23"
      },
      "source": [
        ""
      ],
      "execution_count": null,
      "outputs": []
    },
    {
      "cell_type": "markdown",
      "metadata": {
        "id": "OJ9s9WxilQUF"
      },
      "source": [
        "# Running Heuristics-based algorithms"
      ]
    },
    {
      "cell_type": "code",
      "metadata": {
        "colab": {
          "base_uri": "https://localhost:8080/"
        },
        "id": "rkFGNVIHE6i6",
        "outputId": "9f7994a6-6f41-43f5-fe9c-6b880658a78e"
      },
      "source": [
        "## Get the required python files\r\n",
        "!wget https://raw.githubusercontent.com/kulbir-ahluwalia/CMSC818B_MiniProject_2/main/python/actors.py\r\n",
        "!wget https://raw.githubusercontent.com/kulbir-ahluwalia/CMSC818B_MiniProject_2/main/python/pm_env.py\r\n",
        "!wget https://raw.githubusercontent.com/kulbir-ahluwalia/CMSC818B_MiniProject_2/main/python/custom_algorithms.py"
      ],
      "execution_count": null,
      "outputs": [
        {
          "output_type": "stream",
          "text": [
            "--2020-12-13 02:19:44--  https://raw.githubusercontent.com/kulbir-ahluwalia/CMSC818B_MiniProject_2/main/python/actors.py\n",
            "Resolving raw.githubusercontent.com (raw.githubusercontent.com)... 151.101.0.133, 151.101.64.133, 151.101.128.133, ...\n",
            "Connecting to raw.githubusercontent.com (raw.githubusercontent.com)|151.101.0.133|:443... connected.\n",
            "HTTP request sent, awaiting response... 200 OK\n",
            "Length: 6297 (6.1K) [text/plain]\n",
            "Saving to: ‘actors.py’\n",
            "\n",
            "actors.py           100%[===================>]   6.15K  --.-KB/s    in 0s      \n",
            "\n",
            "2020-12-13 02:19:45 (92.8 MB/s) - ‘actors.py’ saved [6297/6297]\n",
            "\n",
            "--2020-12-13 02:19:45--  https://raw.githubusercontent.com/kulbir-ahluwalia/CMSC818B_MiniProject_2/main/python/pm_env.py\n",
            "Resolving raw.githubusercontent.com (raw.githubusercontent.com)... 151.101.0.133, 151.101.64.133, 151.101.128.133, ...\n",
            "Connecting to raw.githubusercontent.com (raw.githubusercontent.com)|151.101.0.133|:443... connected.\n",
            "HTTP request sent, awaiting response... 200 OK\n",
            "Length: 17421 (17K) [text/plain]\n",
            "Saving to: ‘pm_env.py’\n",
            "\n",
            "pm_env.py           100%[===================>]  17.01K  --.-KB/s    in 0s      \n",
            "\n",
            "2020-12-13 02:19:45 (121 MB/s) - ‘pm_env.py’ saved [17421/17421]\n",
            "\n",
            "--2020-12-13 02:19:45--  https://raw.githubusercontent.com/kulbir-ahluwalia/CMSC818B_MiniProject_2/main/python/custom_algorithms.py\n",
            "Resolving raw.githubusercontent.com (raw.githubusercontent.com)... 151.101.0.133, 151.101.64.133, 151.101.128.133, ...\n",
            "Connecting to raw.githubusercontent.com (raw.githubusercontent.com)|151.101.0.133|:443... connected.\n",
            "HTTP request sent, awaiting response... 200 OK\n",
            "Length: 5830 (5.7K) [text/plain]\n",
            "Saving to: ‘custom_algorithms.py’\n",
            "\n",
            "custom_algorithms.p 100%[===================>]   5.69K  --.-KB/s    in 0s      \n",
            "\n",
            "2020-12-13 02:19:45 (78.1 MB/s) - ‘custom_algorithms.py’ saved [5830/5830]\n",
            "\n"
          ],
          "name": "stdout"
        }
      ]
    },
    {
      "cell_type": "code",
      "metadata": {
        "colab": {
          "base_uri": "https://localhost:8080/"
        },
        "id": "P9ojvkLGFGyc",
        "outputId": "b179ba92-b153-42b9-d622-c361947301a8"
      },
      "source": [
        "!pip install pygame\n",
        "!pip install gym"
      ],
      "execution_count": null,
      "outputs": [
        {
          "output_type": "stream",
          "text": [
            "Collecting pygame\n",
            "\u001b[?25l  Downloading https://files.pythonhosted.org/packages/87/4c/2ebe8ab1a695a446574bc48d96eb3503649893be8c769e7fafd65fd18833/pygame-2.0.0-cp36-cp36m-manylinux1_x86_64.whl (11.5MB)\n",
            "\u001b[K     |████████████████████████████████| 11.5MB 279kB/s \n",
            "\u001b[?25hInstalling collected packages: pygame\n",
            "Successfully installed pygame-2.0.0\n",
            "Requirement already satisfied: gym in /usr/local/lib/python3.6/dist-packages (0.17.3)\n",
            "Requirement already satisfied: cloudpickle<1.7.0,>=1.2.0 in /usr/local/lib/python3.6/dist-packages (from gym) (1.3.0)\n",
            "Requirement already satisfied: pyglet<=1.5.0,>=1.4.0 in /usr/local/lib/python3.6/dist-packages (from gym) (1.5.0)\n",
            "Requirement already satisfied: scipy in /usr/local/lib/python3.6/dist-packages (from gym) (1.4.1)\n",
            "Requirement already satisfied: numpy>=1.10.4 in /usr/local/lib/python3.6/dist-packages (from gym) (1.18.5)\n",
            "Requirement already satisfied: future in /usr/local/lib/python3.6/dist-packages (from pyglet<=1.5.0,>=1.4.0->gym) (0.16.0)\n"
          ],
          "name": "stdout"
        }
      ]
    },
    {
      "cell_type": "code",
      "metadata": {
        "id": "nHAZxCL2cZVG"
      },
      "source": [
        "from google.colab.patches import cv2_imshow\n",
        "from google.colab import output\n",
        "import time \n",
        "import os, sys\n",
        "\n",
        "# set SDL to use the dummy NULL video driver, \n",
        "#   so it doesn't need a windowing system.\n",
        "os.environ[\"SDL_VIDEODRIVER\"] = \"dummy\""
      ],
      "execution_count": null,
      "outputs": []
    },
    {
      "cell_type": "code",
      "metadata": {
        "id": "M6-qfWk6ch4r",
        "colab": {
          "base_uri": "https://localhost:8080/"
        },
        "outputId": "b041f34d-feb6-48ff-b1d1-ba5a08e3c31e"
      },
      "source": [
        "%load_ext autoreload\r\n",
        "%autoreload 2"
      ],
      "execution_count": null,
      "outputs": [
        {
          "output_type": "stream",
          "text": [
            "The autoreload extension is already loaded. To reload it, use:\n",
            "  %reload_ext autoreload\n"
          ],
          "name": "stdout"
        }
      ]
    },
    {
      "cell_type": "code",
      "metadata": {
        "id": "FD7NAO8-kMEd"
      },
      "source": [
        "import warnings\r\n",
        "warnings.filterwarnings('ignore')\r\n",
        "\r\n",
        "import numpy as np\r\n",
        "import cv2"
      ],
      "execution_count": null,
      "outputs": []
    },
    {
      "cell_type": "code",
      "metadata": {
        "id": "N8ec-gv1kQBh"
      },
      "source": [
        "from pm_env import PMGridEnv\r\n",
        "from custom_algorithms import greedy_algorithm, drone_lawnmower, Player_Lawnmower"
      ],
      "execution_count": null,
      "outputs": []
    },
    {
      "cell_type": "markdown",
      "metadata": {
        "id": "aYeG2uDWkpP6"
      },
      "source": [
        "## Greedy Algorithms"
      ]
    },
    {
      "cell_type": "code",
      "metadata": {
        "id": "Ab4kEW8emgIo"
      },
      "source": [
        "# Defining Environment\r\n",
        "height, width = 300, 300 # Grid size\r\n",
        "\r\n",
        "# For each robot (4 here) define (row, column, size) i.e. location and size\r\n",
        "robot_info = [30, 20, 10, 30, 260, 10, 200, 20, 10, 250, 200, 10]\r\n",
        "\r\n",
        "# For each drone (1 here), define (row, colmn, size) i.e. location and size\r\n",
        "drone_info = [20, 50, 100]  \r\n",
        "drone_latency = 2 # Latency fatctor for drone\r\n",
        "\r\n",
        "num_obstacles = 40 # number of objects\r\n",
        "\r\n",
        "\r\n",
        "env = PMGridEnv(height, width, robot_info, drone_info, num_obstacles, drone_latency)"
      ],
      "execution_count": null,
      "outputs": []
    },
    {
      "cell_type": "code",
      "metadata": {
        "colab": {
          "base_uri": "https://localhost:8080/",
          "height": 651
        },
        "id": "vQsIVOl9lKtQ",
        "outputId": "b6390052-01ec-48e3-bdc1-a78b4d69aafb"
      },
      "source": [
        "for i in range(200):\r\n",
        "    for id, player in enumerate(env.playerList):\r\n",
        "        # Form 1: use position dircetly\r\n",
        "        # player.pos = (x,y)\r\n",
        "\r\n",
        "        # Form 2: use move function with size and canvas\r\n",
        "        # player.move(np.random.choice(['up', 'down', 'left', 'right']), player.size, canvas)\r\n",
        "\r\n",
        "        player.pos = greedy_algorithm(player, env.env_img)\r\n",
        "\r\n",
        "    ### Not moving drone in the example\r\n",
        "    # for drone in env.droneList:\r\n",
        "    #     action= action_list[(start_idx + i)%num_action]\r\n",
        "    #     drone.move(env.action_list[action], drone.step_size, env.canvas)\r\n",
        "\r\n",
        "    ### Update graphics\r\n",
        "    env.update_all() \r\n",
        "\r\n",
        "    ### Get updated coverage and observations\r\n",
        "    # self.covergae, self.env_img = self.process_screen(my_coverage=self.coverage, my_canvas=self.canvas)\r\n",
        "    env.process_screen()\r\n",
        "    \r\n",
        "    ### Get drone's view\r\n",
        "    env.drone_map = env.get_droneview(env.drone_map, env.env_img)\r\n",
        "\r\n",
        "    ### Show images\r\n",
        "    env.render()\r\n",
        "\r\n",
        "    time.sleep(0.1)"
      ],
      "execution_count": null,
      "outputs": [
        {
          "output_type": "stream",
          "text": [
            "\t\t Environment \t\t\t Drone View \n"
          ],
          "name": "stdout"
        },
        {
          "output_type": "display_data",
          "data": {
            "image/png": "[encoded data removed]",
            "text/plain": [
              "<PIL.Image.Image image mode=RGB size=610x300 at 0x7FA0EAABD6A0>"
            ]
          },
          "metadata": {
            "tags": []
          }
        },
        {
          "output_type": "stream",
          "text": [
            "\t\t Coverage \t\t\t Drone Coverage \n"
          ],
          "name": "stdout"
        },
        {
          "output_type": "display_data",
          "data": {
            "image/png": "[encoded data removed]",
            "text/plain": [
              "<PIL.Image.Image image mode=L size=610x300 at 0x7FA0EAABD780>"
            ]
          },
          "metadata": {
            "tags": []
          }
        }
      ]
    },
    {
      "cell_type": "markdown",
      "metadata": {
        "id": "8vU5wgkxltq3"
      },
      "source": [
        "## Lawnmower Algorithms"
      ]
    },
    {
      "cell_type": "code",
      "metadata": {
        "id": "bzD-d5qmmbV3"
      },
      "source": [
        "# Defining Environment\r\n",
        "height, width = 300, 300 # Grid size\r\n",
        "\r\n",
        "# For each robot (4 here) define (row, column, size) i.e. location and size\r\n",
        "robot_info = [30, 20, 10, 30, 260, 10, 200, 20, 10, 250, 200, 10]\r\n",
        "\r\n",
        "# For each drone (1 here), define (row, colmn, size) i.e. location and size\r\n",
        "drone_info = [20, 50, 100]  \r\n",
        "drone_latency = 2 # Latency fatctor for drone\r\n",
        "\r\n",
        "num_obstacles = 40 # number of objects\r\n",
        "\r\n",
        "\r\n",
        "env = PMGridEnv(height, width, robot_info, drone_info, num_obstacles, drone_latency)"
      ],
      "execution_count": null,
      "outputs": []
    },
    {
      "cell_type": "code",
      "metadata": {
        "colab": {
          "base_uri": "https://localhost:8080/",
          "height": 651
        },
        "id": "BuvN12kjm79G",
        "outputId": "fd78c607-3564-4e20-da0d-8ef4ff62ec32"
      },
      "source": [
        "### Reset position for each UGVs to work well in the Lawnmower algorithm\r\n",
        "for id, player in enumerate(env.playerList):\r\n",
        "    player.pos[0] = id*env.canvas.height//len(env.playerList)\r\n",
        "    \r\n",
        "### Get Lawnmover generators for UGVs Lawnmower algorithm\r\n",
        "pl_lmwer = Player_Lawnmower(env.playerList, env.canvas)\r\n",
        "gens = pl_lmwer.get_all_generators()\r\n",
        "\r\n",
        "\r\n",
        "################################################\r\n",
        "\r\n",
        "### Get action list for Drone Lawnmower algorithm\r\n",
        "start_idx_d, action_list_d = drone_lawnmower(env.droneList[0], env.canvas)\r\n",
        "num_action = len(action_list_d)\r\n",
        "\r\n",
        "#################################################\r\n",
        "\r\n",
        "# Running algorithms\r\n",
        "for i in range(200):\r\n",
        "    for id, player in enumerate(env.playerList):\r\n",
        "        # Form 1: use position dircetly\r\n",
        "        # player.pos = (x,y)\r\n",
        "\r\n",
        "        # Form 2: use move function with size and canvas\r\n",
        "        # player.move(np.random.choice(['up', 'down', 'left', 'right']), player.size, canvas)\r\n",
        "\r\n",
        "        # Get next move based from Lawnmower\r\n",
        "        player.move(next(gens[id]), player.size, env.canvas)\r\n",
        "        \r\n",
        "    ### Update drones' locations\r\n",
        "    for drone in env.droneList:\r\n",
        "        action= action_list_d[(start_idx_d + i)%num_action]\r\n",
        "        drone.move(env.action_list[action], drone.step_size, env.canvas)\r\n",
        "\r\n",
        "    ### Update graphics\r\n",
        "    env.update_all() \r\n",
        "\r\n",
        "    ### Get updated coverage and observations\r\n",
        "    # self.covergae, self.env_img = self.process_screen(my_coverage=self.coverage, my_canvas=self.canvas)\r\n",
        "    env.process_screen()\r\n",
        "    \r\n",
        "    ### Get drone's view\r\n",
        "    env.drone_map = env.get_droneview(env.drone_map, env.env_img)\r\n",
        "\r\n",
        "    env.render()\r\n",
        "    time.sleep(0.1)"
      ],
      "execution_count": null,
      "outputs": [
        {
          "output_type": "stream",
          "text": [
            "\t\t Environment \t\t\t Drone View \n"
          ],
          "name": "stdout"
        },
        {
          "output_type": "display_data",
          "data": {
            "image/png": "[encoded data removed]",
            "text/plain": [
              "<PIL.Image.Image image mode=RGB size=610x300 at 0x7FEF0D7D07F0>"
            ]
          },
          "metadata": {
            "tags": []
          }
        },
        {
          "output_type": "stream",
          "text": [
            "\t\t Coverage \t\t\t Drone Coverage \n"
          ],
          "name": "stdout"
        },
        {
          "output_type": "display_data",
          "data": {
            "image/png": "[encoded data removed]",
            "text/plain": [
              "<PIL.Image.Image image mode=L size=610x300 at 0x7FEF0D7D0A20>"
            ]
          },
          "metadata": {
            "tags": []
          }
        }
      ]
    },
    {
      "cell_type": "markdown",
      "metadata": {
        "id": "t0VAerqfpvXy"
      },
      "source": [
        "## Information Greedy (2)"
      ]
    },
    {
      "cell_type": "code",
      "metadata": {
        "id": "0juE2wCt55WY"
      },
      "source": [
        "from custom_algorithms import info_greedy_2"
      ],
      "execution_count": null,
      "outputs": []
    },
    {
      "cell_type": "code",
      "metadata": {
        "id": "EeJDce_Pwdln"
      },
      "source": [
        "# Defining Environment\r\n",
        "height, width = 300, 300 # Grid size\r\n",
        "\r\n",
        "# For each robot (4 here) define (row, column, size) i.e. location and size\r\n",
        "robot_info = [30, 20, 10, 30, 260, 10, 200, 20, 10, 250, 200, 10]\r\n",
        "\r\n",
        "# For each drone (1 here), define (row, colmn, size) i.e. location and size\r\n",
        "drone_info = [20, 50, 100]  \r\n",
        "drone_latency = 2 # Latency fatctor for drone\r\n",
        "\r\n",
        "num_obstacles = 40 # number of objects\r\n",
        "\r\n",
        "\r\n",
        "env = PMGridEnv(height, width, robot_info, drone_info, num_obstacles, drone_latency)"
      ],
      "execution_count": null,
      "outputs": []
    },
    {
      "cell_type": "markdown",
      "metadata": {
        "id": "2r9TUY-S9-8r"
      },
      "source": [
        "### Using Environement image (perfect info)"
      ]
    },
    {
      "cell_type": "code",
      "metadata": {
        "colab": {
          "base_uri": "https://localhost:8080/",
          "height": 651
        },
        "id": "f9pq5CE5xJdx",
        "outputId": "0a87d45c-18cc-4c98-abd3-65031200a0f5"
      },
      "source": [
        "for i in range(100):\r\n",
        "    for id, player in enumerate(env.playerList):\r\n",
        "        # Form 1: use position dircetly\r\n",
        "        # player.pos = (x,y)\r\n",
        "\r\n",
        "        # Form 2: use move function with size and canvas\r\n",
        "        # player.move(np.random.choice(['up', 'down', 'left', 'right']), player.size, canvas)\r\n",
        "\r\n",
        "        action = info_greedy_2(player, env.env_img)\r\n",
        "        player.move(action, player.size, env.canvas)\r\n",
        "        \r\n",
        "    ### Not moving drone in the example\r\n",
        "    # for drone in env.droneList:\r\n",
        "    #     action= action_list[(start_idx + i)%num_action]\r\n",
        "    #     drone.move(env.action_list[action], drone.step_size, env.canvas)\r\n",
        "\r\n",
        "    ### Update graphics\r\n",
        "    env.update_all() \r\n",
        "\r\n",
        "    ### Get updated coverage and observations\r\n",
        "    # self.covergae, self.env_img = self.process_screen(my_coverage=self.coverage, my_canvas=self.canvas)\r\n",
        "    env.process_screen()\r\n",
        "    \r\n",
        "    ### Get drone's view\r\n",
        "    env.drone_map = env.get_droneview(env.drone_map, env.env_img)\r\n",
        "\r\n",
        "    ### Show images\r\n",
        "    env.render()\r\n",
        "\r\n",
        "    # time.sleep(0.01)"
      ],
      "execution_count": null,
      "outputs": [
        {
          "output_type": "stream",
          "text": [
            "\t\t Environment \t\t\t Drone View \n"
          ],
          "name": "stdout"
        },
        {
          "output_type": "display_data",
          "data": {
            "image/png": "[encoded data removed]",
            "text/plain": [
              "<PIL.Image.Image image mode=RGB size=610x300 at 0x7F5C1C6D7EF0>"
            ]
          },
          "metadata": {
            "tags": []
          }
        },
        {
          "output_type": "stream",
          "text": [
            "\t\t Coverage \t\t\t Drone Coverage \n"
          ],
          "name": "stdout"
        },
        {
          "output_type": "display_data",
          "data": {
            "image/png": "[encoded data removed]",
            "text/plain": [
              "<PIL.Image.Image image mode=L size=610x300 at 0x7F5C1C6D7DA0>"
            ]
          },
          "metadata": {
            "tags": []
          }
        }
      ]
    },
    {
      "cell_type": "markdown",
      "metadata": {
        "id": "62SkkAkJ92lE"
      },
      "source": [
        "### Using players'/robots' local info"
      ]
    },
    {
      "cell_type": "code",
      "metadata": {
        "id": "zKlmpMcjOtgy"
      },
      "source": [
        "# Defining Environment\r\n",
        "height, width = 300, 300 # Grid size\r\n",
        "\r\n",
        "# For each robot (4 here) define (row, column, size) i.e. location and size\r\n",
        "robot_info = [30, 20, 10, 30, 260, 10, 200, 20, 10, 250, 200, 10]\r\n",
        "\r\n",
        "# For each drone (1 here), define (row, colmn, size) i.e. location and size\r\n",
        "drone_info = [20, 50, 100]  \r\n",
        "drone_latency = 2 # Latency fatctor for drone\r\n",
        "\r\n",
        "num_obstacles = 40 # number of objects\r\n",
        "\r\n",
        "\r\n",
        "env = PMGridEnv(height, width, robot_info, drone_info, num_obstacles, drone_latency)"
      ],
      "execution_count": null,
      "outputs": []
    },
    {
      "cell_type": "code",
      "metadata": {
        "id": "3Zx2WrU96LWK",
        "colab": {
          "base_uri": "https://localhost:8080/",
          "height": 651
        },
        "outputId": "99f775df-b1a2-432f-dad1-fad0f26804c3"
      },
      "source": [
        "for i in range(20):\r\n",
        "    for id, player in enumerate(env.playerList):\r\n",
        "        # Form 1: use position dircetly\r\n",
        "        # player.pos = (x,y)\r\n",
        "\r\n",
        "        # Form 2: use move function with size and canvas\r\n",
        "        # player.move(np.random.choice(['up', 'down', 'left', 'right']), player.size, canvas)\r\n",
        "    \r\n",
        "        action = info_greedy_2(player, player.info)\r\n",
        "        player.move(action, player.size, env.canvas)\r\n",
        "        \r\n",
        "    ### Not moving drone in the example\r\n",
        "    # for drone in env.droneList:\r\n",
        "    #     action= action_list[(start_idx + i)%num_action]\r\n",
        "    #     drone.move(env.action_list[action], drone.step_size, env.canvas)\r\n",
        "\r\n",
        "    ### Update graphics\r\n",
        "    env.update_all() \r\n",
        "\r\n",
        "    ### Get updated coverage and observations\r\n",
        "    # self.covergae, self.env_img = self.process_screen(my_coverage=self.coverage, my_canvas=self.canvas)\r\n",
        "    env.process_screen()\r\n",
        "    \r\n",
        "    ### Get drone's view\r\n",
        "    env.drone_map = env.get_droneview(env.drone_map, env.env_img)\r\n",
        "\r\n",
        "    ### Show images\r\n",
        "    env.render()\r\n",
        "\r\n",
        "    time.sleep(0.005)"
      ],
      "execution_count": null,
      "outputs": [
        {
          "output_type": "stream",
          "text": [
            "\t\t Environment \t\t\t Drone View \n"
          ],
          "name": "stdout"
        },
        {
          "output_type": "display_data",
          "data": {
            "image/png": "[encoded data removed]",
            "text/plain": [
              "<PIL.Image.Image image mode=RGB size=610x300 at 0x7F5C1CF848D0>"
            ]
          },
          "metadata": {
            "tags": []
          }
        },
        {
          "output_type": "stream",
          "text": [
            "\t\t Coverage \t\t\t Drone Coverage \n"
          ],
          "name": "stdout"
        },
        {
          "output_type": "display_data",
          "data": {
            "image/png": "[encoded data removed]",
            "text/plain": [
              "<PIL.Image.Image image mode=L size=610x300 at 0x7F5C4E2382B0>"
            ]
          },
          "metadata": {
            "tags": []
          }
        }
      ]
    },
    {
      "cell_type": "markdown",
      "metadata": {
        "id": "r1KcdZSJ9NHy"
      },
      "source": [
        "### Info Greedy motion for drone"
      ]
    },
    {
      "cell_type": "code",
      "metadata": {
        "id": "A51VRYXIK0Pd"
      },
      "source": [
        "from custom_algorithms import info_greedy_drone_2"
      ],
      "execution_count": null,
      "outputs": []
    },
    {
      "cell_type": "code",
      "metadata": {
        "id": "4RDOu1R__UNy"
      },
      "source": [
        "# Defining Environment\r\n",
        "height, width = 300, 300 # Grid size\r\n",
        "\r\n",
        "# For each robot (4 here) define (row, column, size) i.e. location and size\r\n",
        "robot_info = [30, 20, 10, 30, 260, 10, 200, 20, 10, 250, 200, 10]\r\n",
        "\r\n",
        "# For each drone (1 here), define (row, colmn, size) i.e. location and size\r\n",
        "drone_info = [20, 50, 100]  \r\n",
        "drone_latency = 2 # Latency fatctor for drone\r\n",
        "\r\n",
        "num_obstacles = 40 # number of objects\r\n",
        "\r\n",
        "\r\n",
        "env = PMGridEnv(height, width, robot_info, drone_info, num_obstacles, drone_latency)"
      ],
      "execution_count": null,
      "outputs": []
    },
    {
      "cell_type": "code",
      "metadata": {
        "id": "5Cdmq50F_aVG",
        "colab": {
          "base_uri": "https://localhost:8080/",
          "height": 903
        },
        "outputId": "cd624103-d554-418f-b852-482966421cb0"
      },
      "source": [
        "for i in range(100):\r\n",
        "    for id, player in enumerate(env.playerList):\r\n",
        "        # Form 1: use position dircetly\r\n",
        "        # player.pos = (x,y)\r\n",
        "\r\n",
        "        # Form 2: use move function with size and canvas\r\n",
        "        # player.move(np.random.choice(['up', 'down', 'left', 'right']), player.size, canvas)\r\n",
        "\r\n",
        "        player.pos = greedy_algorithm(player, env.env_img)\r\n",
        "        \r\n",
        "        \r\n",
        "    for drone in env.droneList:\r\n",
        "        action = info_greedy_drone_2(drone, env.drone_map)\r\n",
        "        drone.move(action, drone.size//2, env.canvas)\r\n",
        "\r\n",
        "    ### Update graphics\r\n",
        "    env.update_all() \r\n",
        "\r\n",
        "    ### Get updated coverage and observations\r\n",
        "    # self.covergae, self.env_img = self.process_screen(my_coverage=self.coverage, my_canvas=self.canvas)\r\n",
        "    env.process_screen()\r\n",
        "    \r\n",
        "    ### Get drone's view\r\n",
        "    env.drone_map = env.get_droneview(env.drone_map, env.env_img)\r\n",
        "\r\n",
        "    ### Show images\r\n",
        "    env.render()\r\n",
        "\r\n",
        "    time.sleep(0.005)"
      ],
      "execution_count": null,
      "outputs": [
        {
          "output_type": "stream",
          "text": [
            "\t\t Environment \t\t\t Drone View \n"
          ],
          "name": "stdout"
        },
        {
          "output_type": "display_data",
          "data": {
            "image/png": "[encoded data removed]",
            "text/plain": [
              "<PIL.Image.Image image mode=RGB size=610x300 at 0x7F5C1D5D1FD0>"
            ]
          },
          "metadata": {
            "tags": []
          }
        },
        {
          "output_type": "stream",
          "text": [
            "\t\t Coverage \t\t\t Drone Coverage \n"
          ],
          "name": "stdout"
        },
        {
          "output_type": "display_data",
          "data": {
            "image/png": "[encoded data removed]",
            "text/plain": [
              "<PIL.Image.Image image mode=L size=610x300 at 0x7F5C1D5D1FD0>"
            ]
          },
          "metadata": {
            "tags": []
          }
        },
        {
          "output_type": "display_data",
          "data": {
            "image/png": "[encoded data removed]",
            "text/plain": [
              "<Figure size 432x288 with 4 Axes>"
            ]
          },
          "metadata": {
            "tags": [],
            "needs_background": "light"
          }
        }
      ]
    },
    {
      "cell_type": "code",
      "metadata": {
        "id": "gLvDyF2n_rJY"
      },
      "source": [
        ""
      ],
      "execution_count": null,
      "outputs": []
    },
    {
      "cell_type": "markdown",
      "metadata": {
        "id": "VkHRaZ4EGel3"
      },
      "source": [
        "# Planning using Latency-based Particle Filter (L-PF)"
      ]
    },
    {
      "cell_type": "code",
      "metadata": {
        "id": "jYwXX_X9Gin_",
        "colab": {
          "base_uri": "https://localhost:8080/"
        },
        "outputId": "f2b3148e-4eee-4532-8efb-d9c1a0bc6f8b"
      },
      "source": [
        "## Get the required python files\r\n",
        "!wget https://raw.githubusercontent.com/kulbir-ahluwalia/CMSC818B_MiniProject_2/main/python/actors.py\r\n",
        "!wget https://raw.githubusercontent.com/kulbir-ahluwalia/CMSC818B_MiniProject_2/main/python/pm_env.py\r\n",
        "!wget https://raw.githubusercontent.com/kulbir-ahluwalia/CMSC818B_MiniProject_2/main/python/custom_algorithms.py\r\n",
        "!wget https://raw.githubusercontent.com/kulbir-ahluwalia/CMSC818B_MiniProject_2/main/python/particle_filter.py"
      ],
      "execution_count": null,
      "outputs": [
        {
          "output_type": "stream",
          "text": [
            "--2020-12-24 14:27:23--  https://raw.githubusercontent.com/kulbir-ahluwalia/CMSC818B_MiniProject_2/main/python/actors.py\n",
            "Resolving raw.githubusercontent.com (raw.githubusercontent.com)... 151.101.0.133, 151.101.64.133, 151.101.128.133, ...\n",
            "Connecting to raw.githubusercontent.com (raw.githubusercontent.com)|151.101.0.133|:443... connected.\n",
            "HTTP request sent, awaiting response... 200 OK\n",
            "Length: 6391 (6.2K) [text/plain]\n",
            "Saving to: ‘actors.py’\n",
            "\n",
            "\ractors.py             0%[                    ]       0  --.-KB/s               \ractors.py           100%[===================>]   6.24K  --.-KB/s    in 0s      \n",
            "\n",
            "2020-12-24 14:27:24 (86.9 MB/s) - ‘actors.py’ saved [6391/6391]\n",
            "\n",
            "--2020-12-24 14:27:24--  https://raw.githubusercontent.com/kulbir-ahluwalia/CMSC818B_MiniProject_2/main/python/pm_env.py\n",
            "Resolving raw.githubusercontent.com (raw.githubusercontent.com)... 151.101.0.133, 151.101.64.133, 151.101.128.133, ...\n",
            "Connecting to raw.githubusercontent.com (raw.githubusercontent.com)|151.101.0.133|:443... connected.\n",
            "HTTP request sent, awaiting response... 200 OK\n",
            "Length: 17421 (17K) [text/plain]\n",
            "Saving to: ‘pm_env.py’\n",
            "\n",
            "pm_env.py           100%[===================>]  17.01K  --.-KB/s    in 0s      \n",
            "\n",
            "2020-12-24 14:27:24 (149 MB/s) - ‘pm_env.py’ saved [17421/17421]\n",
            "\n",
            "--2020-12-24 14:27:24--  https://raw.githubusercontent.com/kulbir-ahluwalia/CMSC818B_MiniProject_2/main/python/custom_algorithms.py\n",
            "Resolving raw.githubusercontent.com (raw.githubusercontent.com)... 151.101.0.133, 151.101.64.133, 151.101.128.133, ...\n",
            "Connecting to raw.githubusercontent.com (raw.githubusercontent.com)|151.101.0.133|:443... connected.\n",
            "HTTP request sent, awaiting response... 200 OK\n",
            "Length: 10135 (9.9K) [text/plain]\n",
            "Saving to: ‘custom_algorithms.py’\n",
            "\n",
            "custom_algorithms.p 100%[===================>]   9.90K  --.-KB/s    in 0s      \n",
            "\n",
            "2020-12-24 14:27:24 (106 MB/s) - ‘custom_algorithms.py’ saved [10135/10135]\n",
            "\n",
            "--2020-12-24 14:27:24--  https://raw.githubusercontent.com/kulbir-ahluwalia/CMSC818B_MiniProject_2/main/python/particle_filter.py\n",
            "Resolving raw.githubusercontent.com (raw.githubusercontent.com)... 151.101.0.133, 151.101.64.133, 151.101.128.133, ...\n",
            "Connecting to raw.githubusercontent.com (raw.githubusercontent.com)|151.101.0.133|:443... connected.\n",
            "HTTP request sent, awaiting response... 200 OK\n",
            "Length: 5033 (4.9K) [text/plain]\n",
            "Saving to: ‘particle_filter.py’\n",
            "\n",
            "particle_filter.py  100%[===================>]   4.92K  --.-KB/s    in 0s      \n",
            "\n",
            "2020-12-24 14:27:24 (64.8 MB/s) - ‘particle_filter.py’ saved [5033/5033]\n",
            "\n"
          ],
          "name": "stdout"
        }
      ]
    },
    {
      "cell_type": "code",
      "metadata": {
        "id": "xxxuln0YGl8g",
        "colab": {
          "base_uri": "https://localhost:8080/"
        },
        "outputId": "dac7c268-d734-4285-bd75-3515b4966a28"
      },
      "source": [
        "!pip install pygame\r\n",
        "!pip install gym"
      ],
      "execution_count": null,
      "outputs": [
        {
          "output_type": "stream",
          "text": [
            "Collecting pygame\n",
            "\u001b[?25l  Downloading https://files.pythonhosted.org/packages/01/da/4ff439558641a26dd29b04c25947e6c0ace041f56b2aa2ef1134edab06b8/pygame-2.0.1-cp36-cp36m-manylinux1_x86_64.whl (11.8MB)\n",
            "\u001b[K     |████████████████████████████████| 11.8MB 17.0MB/s \n",
            "\u001b[?25hInstalling collected packages: pygame\n",
            "Successfully installed pygame-2.0.1\n",
            "Requirement already satisfied: gym in /usr/local/lib/python3.6/dist-packages (0.17.3)\n",
            "Requirement already satisfied: scipy in /usr/local/lib/python3.6/dist-packages (from gym) (1.4.1)\n",
            "Requirement already satisfied: pyglet<=1.5.0,>=1.4.0 in /usr/local/lib/python3.6/dist-packages (from gym) (1.5.0)\n",
            "Requirement already satisfied: numpy>=1.10.4 in /usr/local/lib/python3.6/dist-packages (from gym) (1.19.4)\n",
            "Requirement already satisfied: cloudpickle<1.7.0,>=1.2.0 in /usr/local/lib/python3.6/dist-packages (from gym) (1.3.0)\n",
            "Requirement already satisfied: future in /usr/local/lib/python3.6/dist-packages (from pyglet<=1.5.0,>=1.4.0->gym) (0.16.0)\n"
          ],
          "name": "stdout"
        }
      ]
    },
    {
      "cell_type": "code",
      "metadata": {
        "id": "APwjZ1fqHJu9"
      },
      "source": [
        "from google.colab.patches import cv2_imshow\r\n",
        "from google.colab import output\r\n",
        "import time \r\n",
        "import os, sys\r\n",
        "\r\n",
        "# set SDL to use the dummy NULL video driver, \r\n",
        "#   so it doesn't need a windowing system.\r\n",
        "os.environ[\"SDL_VIDEODRIVER\"] = \"dummy\""
      ],
      "execution_count": null,
      "outputs": []
    },
    {
      "cell_type": "code",
      "metadata": {
        "id": "T17yIcmMNAJ7"
      },
      "source": [
        "import warnings\r\n",
        "warnings.filterwarnings('ignore')\r\n",
        "\r\n",
        "import numpy as np\r\n",
        "import cv2"
      ],
      "execution_count": null,
      "outputs": []
    },
    {
      "cell_type": "code",
      "metadata": {
        "id": "7IIiTs3LLc1_",
        "colab": {
          "base_uri": "https://localhost:8080/"
        },
        "outputId": "58688c7f-ffa9-4245-e3a7-9320888bbbb8"
      },
      "source": [
        "from pm_env import PMGridEnv\r\n",
        "from custom_algorithms import info_greddy_PF\r\n",
        "from particle_filter import *"
      ],
      "execution_count": null,
      "outputs": [
        {
          "output_type": "stream",
          "text": [
            "pygame 2.0.1 (SDL 2.0.14, Python 3.6.9)\n",
            "Hello from the pygame community. https://www.pygame.org/contribute.html\n"
          ],
          "name": "stdout"
        }
      ]
    },
    {
      "cell_type": "markdown",
      "metadata": {
        "id": "drLMlfMiWMb8"
      },
      "source": [
        "## Heuristic-based Algorithm"
      ]
    },
    {
      "cell_type": "code",
      "metadata": {
        "id": "GOM5vR3NLjQT"
      },
      "source": [
        "# Defining Environment\r\n",
        "height, width = 100, 100 # Grid size\r\n",
        "\r\n",
        "# For each robot (4 here) define (row, column, size) i.e. location and size\r\n",
        "robot_info = np.array([30, 20, 10, 30, 260, 10, 200, 20, 10, 250, 200, 10])//3\r\n",
        "\r\n",
        "# For each drone (1 here), define (row, colmn, size) i.e. location and size\r\n",
        "#drone_info = [20, 50, 100]  \r\n",
        "# drone_info = [40, 20, 100]  \r\n",
        "drone_info = [10,20, 30]# np.array([40, 20, 100] )\r\n",
        "drone_latency = 2 # Latency fatctor for drone\r\n",
        "\r\n",
        "num_obstacles = 40 # number of objects\r\n",
        "\r\n",
        "env = PMGridEnv(height, width, robot_info, drone_info, num_obstacles, drone_latency)\r\n",
        "\r\n",
        "num_agents= len(env.playerList)\r\n",
        "\r\n",
        "\r\n",
        "\r\n",
        "#initialize belief space\r\n",
        "env.belief= np.zeros((height, width))\r\n",
        "env.num_beliefs= 30\r\n",
        "init_belief(env)"
      ],
      "execution_count": null,
      "outputs": []
    },
    {
      "cell_type": "code",
      "metadata": {
        "id": "ITZMWSmbScQt",
        "colab": {
          "base_uri": "https://localhost:8080/",
          "height": 117
        },
        "outputId": "a5858cda-b225-49e2-e980-11ee94e94b98"
      },
      "source": [
        "cv2_imshow(env.env_img)"
      ],
      "execution_count": null,
      "outputs": [
        {
          "output_type": "display_data",
          "data": {
            "image/png": "[encoded data removed]",
            "text/plain": [
              "<PIL.Image.Image image mode=RGB size=100x100 at 0x7FB447BB19E8>"
            ]
          },
          "metadata": {
            "tags": []
          }
        }
      ]
    },
    {
      "cell_type": "code",
      "metadata": {
        "id": "9Ekb1fQaSgWE",
        "colab": {
          "base_uri": "https://localhost:8080/",
          "height": 229
        },
        "outputId": "b086b9a1-e66e-40e8-db8d-ed6b06a812d7"
      },
      "source": [
        "# Initialize heatmap\r\n",
        "heatmap = discretize_env(env, grid_size = 10)\r\n",
        "\r\n",
        "for i in range(200):\r\n",
        "    for id, player in enumerate(env.playerList):\r\n",
        "        # Form 1: use position dircetly\r\n",
        "        # player.pos = (x,y)\r\n",
        "\r\n",
        "        # Form 2: use move function with size and canvas\r\n",
        "        player.move(np.random.choice(['up', 'down', 'left', 'right']), player.size, env.canvas)\r\n",
        "\r\n",
        "        # Get next move based from Lawnmower\r\n",
        "        # player.move(next(gens[id]), player.size, env.canvas)\r\n",
        "        \r\n",
        "        \r\n",
        "    ### Update drones' locations\r\n",
        "    for drone in env.droneList:\r\n",
        "        action = info_greddy_PF(drone, heatmap, env.action_list)\r\n",
        "        drone.move(action, drone.size//5, env.canvas)\r\n",
        "\r\n",
        "    ### Update graphics\r\n",
        "    env.update_all() \r\n",
        "\r\n",
        "    ### Get updated coverage and observations\r\n",
        "    # self.covergae, self.env_img = self.process_screen(my_coverage=self.coverage, my_canvas=self.canvas)\r\n",
        "    env.process_screen()\r\n",
        "\r\n",
        "    ### Get drone's view\r\n",
        "    env.drone_map = env.get_droneview(env.drone_map, env.env_img)\r\n",
        "\r\n",
        "    ### Generate Heatmap of size 10x10\r\n",
        "    heatmap = discretize_env(env, grid_size = 10)\r\n",
        "\r\n",
        "    ### Get drone's belife space\r\n",
        "    env.belief= update_belief(env.belief,env)\r\n",
        "    \r\n",
        "\r\n",
        "\r\n",
        "    ################# Visualization #####################3\r\n",
        "    ### Add borders to the environment image\r\n",
        "    new_img1 = cv2.copyMakeBorder(env.env_img,10,10,10,10,cv2.BORDER_CONSTANT,value=(255,255,255))\r\n",
        "    \r\n",
        "    ### Get particles/belief image (as RGB) and add borders\r\n",
        "    particles_img = np.array([env.belief]*3).transpose(1,2,0).astype(np.uint8)\r\n",
        "    new_img2 = cv2.copyMakeBorder(particles_img,10,10,10,10,cv2.BORDER_CONSTANT,value=(255,255,255))\r\n",
        "    \r\n",
        "    ### Convert heatmap to a RGB image and add order\r\n",
        "    heatmap_img = np.array([cv2.resize(heatmap, (height, width))]*3).transpose(1,2,0)\r\n",
        "    heatmap_img = (255*((heatmap_img+100)/600.)).astype(np.uint8)\r\n",
        "    new_img3 = cv2.copyMakeBorder(heatmap_img,10,10,10,10,cv2.BORDER_CONSTANT,value=(255,255,255))\r\n",
        "    \r\n",
        "    ### Combine images\r\n",
        "    final_img = np.hstack([new_img1, new_img2, new_img3])\r\n",
        "    final_img = cv2.resize(final_img, (final_img.shape[1]*3, final_img.shape[0]*3))\r\n",
        "\r\n",
        "    ### Add labels\r\n",
        "    final_img = cv2.putText(final_img, 'Environnment', (100, 21), fontFace = cv2.FONT_HERSHEY_SIMPLEX , fontScale=0.8, color=(0,0,0), thickness= 2)\r\n",
        "    final_img = cv2.putText(final_img, 'Belief', (500, 21), fontFace = cv2.FONT_HERSHEY_SIMPLEX , fontScale=0.8, color=(0,0,0), thickness= 2)\r\n",
        "    final_img = cv2.putText(final_img, 'Heatmap', (850, 21), fontFace = cv2.FONT_HERSHEY_SIMPLEX , fontScale=0.8, color=(0,0,0), thickness= 2)\r\n",
        "\r\n",
        "\r\n",
        "    \r\n",
        "    output.clear()\r\n",
        "    cv2_imshow(final_img)\r\n",
        "    time.sleep(0.5)\r\n"
      ],
      "execution_count": null,
      "outputs": [
        {
          "output_type": "display_data",
          "data": {
            "image/png": "[encoded data removed]",
            "text/plain": [
              "<PIL.Image.Image image mode=RGB size=1080x360 at 0x7FB444767E48>"
            ]
          },
          "metadata": {
            "tags": []
          }
        }
      ]
    },
    {
      "cell_type": "markdown",
      "metadata": {
        "id": "kv3BJ4TxUISx"
      },
      "source": [
        "## RL-based Algo"
      ]
    },
    {
      "cell_type": "code",
      "metadata": {
        "id": "YoDFrzo-g4YS",
        "colab": {
          "base_uri": "https://localhost:8080/"
        },
        "outputId": "5e06a5b4-7d7a-4aac-8f87-831d4dd98eb8"
      },
      "source": [
        "## Get the required additional python files\r\n",
        "!wget https://raw.githubusercontent.com/kulbir-ahluwalia/CMSC818B_MiniProject_2/main/python/PPO_agent.py\r\n",
        "!wget https://raw.githubusercontent.com/kulbir-ahluwalia/CMSC818B_MiniProject_2/main/python/constants.py"
      ],
      "execution_count": null,
      "outputs": [
        {
          "output_type": "stream",
          "text": [
            "--2020-12-24 16:13:47--  https://raw.githubusercontent.com/kulbir-ahluwalia/CMSC818B_MiniProject_2/main/python/actors.py\n",
            "Resolving raw.githubusercontent.com (raw.githubusercontent.com)... 151.101.0.133, 151.101.64.133, 151.101.128.133, ...\n",
            "Connecting to raw.githubusercontent.com (raw.githubusercontent.com)|151.101.0.133|:443... connected.\n",
            "HTTP request sent, awaiting response... 200 OK\n",
            "Length: 6391 (6.2K) [text/plain]\n",
            "Saving to: ‘actors.py.2’\n",
            "\n",
            "\ractors.py.2           0%[                    ]       0  --.-KB/s               \ractors.py.2         100%[===================>]   6.24K  --.-KB/s    in 0s      \n",
            "\n",
            "2020-12-24 16:13:47 (105 MB/s) - ‘actors.py.2’ saved [6391/6391]\n",
            "\n",
            "--2020-12-24 16:13:47--  https://raw.githubusercontent.com/kulbir-ahluwalia/CMSC818B_MiniProject_2/main/python/pm_env.py\n",
            "Resolving raw.githubusercontent.com (raw.githubusercontent.com)... 151.101.0.133, 151.101.64.133, 151.101.128.133, ...\n",
            "Connecting to raw.githubusercontent.com (raw.githubusercontent.com)|151.101.0.133|:443... connected.\n",
            "HTTP request sent, awaiting response... 200 OK\n",
            "Length: 17551 (17K) [text/plain]\n",
            "Saving to: ‘pm_env.py.2’\n",
            "\n",
            "pm_env.py.2         100%[===================>]  17.14K  --.-KB/s    in 0s      \n",
            "\n",
            "2020-12-24 16:13:47 (143 MB/s) - ‘pm_env.py.2’ saved [17551/17551]\n",
            "\n",
            "--2020-12-24 16:13:47--  https://raw.githubusercontent.com/kulbir-ahluwalia/CMSC818B_MiniProject_2/main/python/custom_algorithms.py\n",
            "Resolving raw.githubusercontent.com (raw.githubusercontent.com)... 151.101.0.133, 151.101.64.133, 151.101.128.133, ...\n",
            "Connecting to raw.githubusercontent.com (raw.githubusercontent.com)|151.101.0.133|:443... connected.\n",
            "HTTP request sent, awaiting response... 200 OK\n",
            "Length: 10814 (11K) [text/plain]\n",
            "Saving to: ‘custom_algorithms.py.2’\n",
            "\n",
            "custom_algorithms.p 100%[===================>]  10.56K  --.-KB/s    in 0s      \n",
            "\n",
            "2020-12-24 16:13:47 (132 MB/s) - ‘custom_algorithms.py.2’ saved [10814/10814]\n",
            "\n",
            "--2020-12-24 16:13:48--  https://raw.githubusercontent.com/kulbir-ahluwalia/CMSC818B_MiniProject_2/main/python/particle_filter.py\n",
            "Resolving raw.githubusercontent.com (raw.githubusercontent.com)... 151.101.0.133, 151.101.64.133, 151.101.128.133, ...\n",
            "Connecting to raw.githubusercontent.com (raw.githubusercontent.com)|151.101.0.133|:443... connected.\n",
            "HTTP request sent, awaiting response... 200 OK\n",
            "Length: 5033 (4.9K) [text/plain]\n",
            "Saving to: ‘particle_filter.py.2’\n",
            "\n",
            "particle_filter.py. 100%[===================>]   4.92K  --.-KB/s    in 0s      \n",
            "\n",
            "2020-12-24 16:13:48 (96.8 MB/s) - ‘particle_filter.py.2’ saved [5033/5033]\n",
            "\n",
            "--2020-12-24 16:13:48--  https://raw.githubusercontent.com/kulbir-ahluwalia/CMSC818B_MiniProject_2/main/python/PPO_agent.py\n",
            "Resolving raw.githubusercontent.com (raw.githubusercontent.com)... 151.101.0.133, 151.101.64.133, 151.101.128.133, ...\n",
            "Connecting to raw.githubusercontent.com (raw.githubusercontent.com)|151.101.0.133|:443... connected.\n",
            "HTTP request sent, awaiting response... 200 OK\n",
            "Length: 12836 (13K) [text/plain]\n",
            "Saving to: ‘PPO_agent.py.1’\n",
            "\n",
            "PPO_agent.py.1      100%[===================>]  12.54K  --.-KB/s    in 0s      \n",
            "\n",
            "2020-12-24 16:13:48 (140 MB/s) - ‘PPO_agent.py.1’ saved [12836/12836]\n",
            "\n",
            "--2020-12-24 16:13:48--  https://raw.githubusercontent.com/kulbir-ahluwalia/CMSC818B_MiniProject_2/main/python/constants.py\n",
            "Resolving raw.githubusercontent.com (raw.githubusercontent.com)... 151.101.0.133, 151.101.64.133, 151.101.128.133, ...\n",
            "Connecting to raw.githubusercontent.com (raw.githubusercontent.com)|151.101.0.133|:443... connected.\n",
            "HTTP request sent, awaiting response... 200 OK\n",
            "Length: 232 [text/plain]\n",
            "Saving to: ‘constants.py’\n",
            "\n",
            "constants.py        100%[===================>]     232  --.-KB/s    in 0s      \n",
            "\n",
            "2020-12-24 16:13:48 (18.3 MB/s) - ‘constants.py’ saved [232/232]\n",
            "\n"
          ],
          "name": "stdout"
        }
      ]
    },
    {
      "cell_type": "code",
      "metadata": {
        "id": "3x9AaBYjWTYc",
        "colab": {
          "base_uri": "https://localhost:8080/"
        },
        "outputId": "6d12c7c8-f022-4bd8-99fa-32daf8c99c94"
      },
      "source": [
        "!mkdir rl_models/ \r\n",
        "!wget https://umd.box.com/shared/static/lqq38ea82er4dpxqpl3fcv2pdlffc0qe.pt -O rl_models/pmrl_particle_30_eplen_1000_itrs_30000_batch_1000.pt\r\n",
        "!wget https://umd.box.com/shared/static/prybpeyvru3amliydtisoxk1kgvmfsm6.pt -O rl_models/pmrl_particle_10_eplen_500_itrs_15000_batch_2000.pt\r\n",
        "!wget https://umd.box.com/shared/static/f4w4ffhvoi4k454l02hfq9jwhfaildm9.pt -O rl_models/pmrl_particle_30_eplen_500_itrs_15000_batch_1000.pt\r\n"
      ],
      "execution_count": 2,
      "outputs": [
        {
          "output_type": "stream",
          "text": [
            "mkdir: cannot create directory ‘rl_models/’: File exists\n",
            "--2020-12-24 17:29:19--  https://umd.box.com/shared/static/lqq38ea82er4dpxqpl3fcv2pdlffc0qe.pt\n",
            "Resolving umd.box.com (umd.box.com)... 107.152.26.197\n",
            "Connecting to umd.box.com (umd.box.com)|107.152.26.197|:443... connected.\n",
            "HTTP request sent, awaiting response... 301 Moved Permanently\n",
            "Location: /public/static/lqq38ea82er4dpxqpl3fcv2pdlffc0qe.pt [following]\n",
            "--2020-12-24 17:29:19--  https://umd.box.com/public/static/lqq38ea82er4dpxqpl3fcv2pdlffc0qe.pt\n",
            "Reusing existing connection to umd.box.com:443.\n",
            "HTTP request sent, awaiting response... 301 Moved Permanently\n",
            "Location: https://umd.app.box.com/public/static/lqq38ea82er4dpxqpl3fcv2pdlffc0qe.pt [following]\n",
            "--2020-12-24 17:29:19--  https://umd.app.box.com/public/static/lqq38ea82er4dpxqpl3fcv2pdlffc0qe.pt\n",
            "Resolving umd.app.box.com (umd.app.box.com)... 107.152.26.201\n",
            "Connecting to umd.app.box.com (umd.app.box.com)|107.152.26.201|:443... connected.\n",
            "HTTP request sent, awaiting response... 302 Found\n",
            "Location: https://public.boxcloud.com/d/1/b1!CXkRacaLx4hc7v-QmznfoWzDjAS5nL3_D_kYOJOx50WJ6fketJsgPaPPdzOJySdN8Iyxb1gJD0hxmH665p6t1mp8OxM0WzHefQA872FaYyyvWp2e4cjhbeQgWdQxxDO2MYslEl4O0yeJ3vivaNhVFNoX150dVKykobEGU3Tkcil4JV3NSXCT0GiOKhkqOF5e9ECH1FNNPXlq_J0_ytVrkGGO6tJnJXmhbGQDdYxZ1PXV88FG9t1s1Da208ooLa4rCyiyqtREEymnDoLXLLrAcgP3MzwoyZsuJA28sMinh3W7tzyvoaJPWoyw9ohzDDg4fcxra9jo4BfjUwdKXIRlmlrFsy4TNHJd8COTwYDHDu4zuf9xrnv6q_q3EXuJmay3Qt5USGc1QvklJ_2O8YmBIbUJRAtjBY93_rIIKuJD6XTqv55yF8p0W39XIwXV2DARzNb3RyqKIoyTshY77DomdtTSZ-Z7XlOOO5o25yA2Ye_okebyFvMQd1hT3LePjkT2PgAREDl0vkMqulAzvInvEHai36cHPB3GCVCmyBkRbFNRxNYkMjLckVBHOlxrC4looa3lvyDWaz50AifG1gxpqepWp8zu95jod8gGjeDBh37bNatBgpnhfLN8L6wrjT_RANLePRK6Gl4VRy5X2Eugr07Mt1PyA1r_UpN_vr-WMlsmBxMt_kpe6I_ERqeLd-RZ56DPtxH9UrX6E5JXisbtplLPLvoRTD0GHK_LTHQMKG8YxQIkSG8H8-Usu89FMZ2tSwS7kIOT70ey6ENi2-gtQFkVABnOe0eyQ9Knsbj3uabUujqsPng7S0p869MmCfLX4D56lD-MLHGvSCJRtvEtTI0n07zE0SZZKCba-FY_RL942ARyUW98ZrLzyhVmX-TlM6IWyvk38MxWS1DAWMeSSdN2SwV9ZzL5PDFvhE9NL7q42ZTNVkp02IGlvG3NjXJ6Km1o8QndkJewqm1sC22eUHBEOYKaOwtvEinEjROpkoyb3Mw44lvRlbCBukrzcpaexejLa-VoBTmQmKnMJKaVO7ygIRwJ2WmkKvbmQgDUoA1a7W_Rx2B__6IB8wjA9nIDdi87BPFCcFEmTFvqLZdMY8xm5AhtPzBLw8186lf1fpGUfsDPGTWvqJemB14aioVr4VdaLvm0v7H6Sk-AfFcS9F_Ytqhp_4iiGQDO4d30hg3O-Qixhq6Ema2Gs74ycLA25T0VxAmtuvUP6HaAOP1FyNl1tOFb12vMbU3zD3e6V-esIaIH09Rjgt8CYKyiaAaDqoMLmh6Crg8oe2vCQtfIwOpNJ45-LWh_SIfy65jO4wCUXsVmsTFNRNv0-nGS9TdOWfWggXBxtzCYHSBF3V1jh7FKtEap7iy4TFjEAsr_z2_beDrs8lAuqafLQxOGfQGs4J5CZUEu7NBm9YletW7myhFxSPDezy8cTn2GZ45tEX1PIG_pkXcamjCT/download [following]\n",
            "--2020-12-24 17:29:20--  https://public.boxcloud.com/d/1/b1!CXkRacaLx4hc7v-QmznfoWzDjAS5nL3_D_kYOJOx50WJ6fketJsgPaPPdzOJySdN8Iyxb1gJD0hxmH665p6t1mp8OxM0WzHefQA872FaYyyvWp2e4cjhbeQgWdQxxDO2MYslEl4O0yeJ3vivaNhVFNoX150dVKykobEGU3Tkcil4JV3NSXCT0GiOKhkqOF5e9ECH1FNNPXlq_J0_ytVrkGGO6tJnJXmhbGQDdYxZ1PXV88FG9t1s1Da208ooLa4rCyiyqtREEymnDoLXLLrAcgP3MzwoyZsuJA28sMinh3W7tzyvoaJPWoyw9ohzDDg4fcxra9jo4BfjUwdKXIRlmlrFsy4TNHJd8COTwYDHDu4zuf9xrnv6q_q3EXuJmay3Qt5USGc1QvklJ_2O8YmBIbUJRAtjBY93_rIIKuJD6XTqv55yF8p0W39XIwXV2DARzNb3RyqKIoyTshY77DomdtTSZ-Z7XlOOO5o25yA2Ye_okebyFvMQd1hT3LePjkT2PgAREDl0vkMqulAzvInvEHai36cHPB3GCVCmyBkRbFNRxNYkMjLckVBHOlxrC4looa3lvyDWaz50AifG1gxpqepWp8zu95jod8gGjeDBh37bNatBgpnhfLN8L6wrjT_RANLePRK6Gl4VRy5X2Eugr07Mt1PyA1r_UpN_vr-WMlsmBxMt_kpe6I_ERqeLd-RZ56DPtxH9UrX6E5JXisbtplLPLvoRTD0GHK_LTHQMKG8YxQIkSG8H8-Usu89FMZ2tSwS7kIOT70ey6ENi2-gtQFkVABnOe0eyQ9Knsbj3uabUujqsPng7S0p869MmCfLX4D56lD-MLHGvSCJRtvEtTI0n07zE0SZZKCba-FY_RL942ARyUW98ZrLzyhVmX-TlM6IWyvk38MxWS1DAWMeSSdN2SwV9ZzL5PDFvhE9NL7q42ZTNVkp02IGlvG3NjXJ6Km1o8QndkJewqm1sC22eUHBEOYKaOwtvEinEjROpkoyb3Mw44lvRlbCBukrzcpaexejLa-VoBTmQmKnMJKaVO7ygIRwJ2WmkKvbmQgDUoA1a7W_Rx2B__6IB8wjA9nIDdi87BPFCcFEmTFvqLZdMY8xm5AhtPzBLw8186lf1fpGUfsDPGTWvqJemB14aioVr4VdaLvm0v7H6Sk-AfFcS9F_Ytqhp_4iiGQDO4d30hg3O-Qixhq6Ema2Gs74ycLA25T0VxAmtuvUP6HaAOP1FyNl1tOFb12vMbU3zD3e6V-esIaIH09Rjgt8CYKyiaAaDqoMLmh6Crg8oe2vCQtfIwOpNJ45-LWh_SIfy65jO4wCUXsVmsTFNRNv0-nGS9TdOWfWggXBxtzCYHSBF3V1jh7FKtEap7iy4TFjEAsr_z2_beDrs8lAuqafLQxOGfQGs4J5CZUEu7NBm9YletW7myhFxSPDezy8cTn2GZ45tEX1PIG_pkXcamjCT/download\n",
            "Resolving public.boxcloud.com (public.boxcloud.com)... 107.152.29.200\n",
            "Connecting to public.boxcloud.com (public.boxcloud.com)|107.152.29.200|:443... connected.\n",
            "HTTP request sent, awaiting response... 200 OK\n",
            "Length: 29795 (29K) [application/octet-stream]\n",
            "Saving to: ‘rl_models/pmrl_particle_30_eplen_1000_itrs_30000_batch_1000.pt’\n",
            "\n",
            "rl_models/pmrl_part 100%[===================>]  29.10K  --.-KB/s    in 0.02s   \n",
            "\n",
            "2020-12-24 17:29:20 (1.50 MB/s) - ‘rl_models/pmrl_particle_30_eplen_1000_itrs_30000_batch_1000.pt’ saved [29795/29795]\n",
            "\n",
            "--2020-12-24 17:29:20--  https://umd.box.com/shared/static/prybpeyvru3amliydtisoxk1kgvmfsm6.pt\n",
            "Resolving umd.box.com (umd.box.com)... 107.152.26.197\n",
            "Connecting to umd.box.com (umd.box.com)|107.152.26.197|:443... connected.\n",
            "HTTP request sent, awaiting response... 301 Moved Permanently\n",
            "Location: /public/static/prybpeyvru3amliydtisoxk1kgvmfsm6.pt [following]\n",
            "--2020-12-24 17:29:20--  https://umd.box.com/public/static/prybpeyvru3amliydtisoxk1kgvmfsm6.pt\n",
            "Reusing existing connection to umd.box.com:443.\n",
            "HTTP request sent, awaiting response... 301 Moved Permanently\n",
            "Location: https://umd.app.box.com/public/static/prybpeyvru3amliydtisoxk1kgvmfsm6.pt [following]\n",
            "--2020-12-24 17:29:20--  https://umd.app.box.com/public/static/prybpeyvru3amliydtisoxk1kgvmfsm6.pt\n",
            "Resolving umd.app.box.com (umd.app.box.com)... 107.152.26.201\n",
            "Connecting to umd.app.box.com (umd.app.box.com)|107.152.26.201|:443... connected.\n",
            "HTTP request sent, awaiting response... 302 Found\n",
            "Location: https://public.boxcloud.com/d/1/b1!qWToE-mlgY1UAWMuxKGUe1-Sal-Y6LxX9RWD1MnJv30zQDDz67aQwMqR5dD_BDdLBUa_ni3_rnrvkaksIQbAdJSX8dI14Ii5yVCjnY_ZmE7Crd9EQUTWzC57VZi2OoHVvRIFhhyYEgKwwwZPm8UERNZD7yX8Epwd7V7NJSJHzGUP1s0reg5HfVW0417EShJLslorkWJfeXsOwL3ifJN8pTAu1UoiY87kSOpWPyb_htuNXci0Dwo2qRbfo8cNmvT3JHHZPf9RQZmkEH3weDmT4smTQLp9-UieYwcre62ixQv1EJfzENBcwU0i2S6rA0EPAHvj_06jTHFYlxLCDjDerlUxueAddxf63pUyykBPgwuGGRp3lmmMt7TWoL79BUwBU2iM74u7F4UCqH04XoVITsoOtWIkZecRaly7ZmgjOEO97dx6A9TcXW3u_AcLlMjcH0mjhbhYaF0WUdh-z7726OE_AHXGpgkPi0oxMtD_RlzfwUqw1UVqbRpDzPHSmNejM3yd0iATyOfAs4hvYmIhhzIm0PiFVhSK3wVukNx_StYGUqys5DvcKTxf7TZOjcvK93G-PCY5IsGNN6uE-lKdO1EmyqjI2vfZIPbWheoeL5otfCr5yykFn902rhUo6jh_3fEZTHe_yz5Au-Z93LePT8duK8XAoNAP1gWX78IvOXWD_ryxE8dXgR21b9JcOeI3boTDxnya-wHaB7yQ1fqkPzH9Sw3nJRrrWDlTmMs5z68HFLnYqCGjPtHSz_Du1o_t7azg45mOaxw61etxuUyYnACJhcFNaw7HTkRo5PlDDyb9A4njL5EtGitjqbPbUNLTqC5vZ2Mb4GRTSDtz2Y2cZ4X3En5k-56bjB_TUJgT5l-luj-CP7VQxLGwi2MqdQjPYf5Aai2wZr_n6el4pfkhyaMFoBaDiw2bHAdbMx0C_ixJI5GOSRq6nCy8kEyzc017IQVYjO73xmTJ8e9lSOi1EvvrQqHBo8kta_0euB-S9vyUL6oaFizkmti97T5Ob68c-1HAK1XmmGMZZeuACuCeXcP44aP-7o9aCDlZPCB0R5zaElowbf-NasmYkVY3kOzaMzlC-2oAjjoXfbN66dDPufM6pJ_wMQRAIpJvcaPDOqs8DEMhiRNqznQwsE6XyoMHMPpnE0BkayCm9zwyyGV5pvjcgJNG7xQY1M8HwOiHv7mCKpX-ycd8cBy8di-zGFSP9wp1d_jlh21rgO5EmcKFGHQ-GF3ni4AxbV1nSYJ4JkD7WB8xb0a7ivm8SxpknaXczUXDVcuHf91AFgCI1Qa525WeG1EluhxOC7m1BVuMQ_e3TPpgmJfvd77evyifQI7cyxri7Ihiz9Brlbu1gr6S_pj6D1OO03xDSh7W_gDpuFea5G_jZH_s8KIKkE9hBwP9dx0b-1P2Y6R8ZCIbrc8h4KI7z2x6vN49QVahzxcYZnIs8IGua0iAwPg./download [following]\n",
            "--2020-12-24 17:29:21--  https://public.boxcloud.com/d/1/b1!qWToE-mlgY1UAWMuxKGUe1-Sal-Y6LxX9RWD1MnJv30zQDDz67aQwMqR5dD_BDdLBUa_ni3_rnrvkaksIQbAdJSX8dI14Ii5yVCjnY_ZmE7Crd9EQUTWzC57VZi2OoHVvRIFhhyYEgKwwwZPm8UERNZD7yX8Epwd7V7NJSJHzGUP1s0reg5HfVW0417EShJLslorkWJfeXsOwL3ifJN8pTAu1UoiY87kSOpWPyb_htuNXci0Dwo2qRbfo8cNmvT3JHHZPf9RQZmkEH3weDmT4smTQLp9-UieYwcre62ixQv1EJfzENBcwU0i2S6rA0EPAHvj_06jTHFYlxLCDjDerlUxueAddxf63pUyykBPgwuGGRp3lmmMt7TWoL79BUwBU2iM74u7F4UCqH04XoVITsoOtWIkZecRaly7ZmgjOEO97dx6A9TcXW3u_AcLlMjcH0mjhbhYaF0WUdh-z7726OE_AHXGpgkPi0oxMtD_RlzfwUqw1UVqbRpDzPHSmNejM3yd0iATyOfAs4hvYmIhhzIm0PiFVhSK3wVukNx_StYGUqys5DvcKTxf7TZOjcvK93G-PCY5IsGNN6uE-lKdO1EmyqjI2vfZIPbWheoeL5otfCr5yykFn902rhUo6jh_3fEZTHe_yz5Au-Z93LePT8duK8XAoNAP1gWX78IvOXWD_ryxE8dXgR21b9JcOeI3boTDxnya-wHaB7yQ1fqkPzH9Sw3nJRrrWDlTmMs5z68HFLnYqCGjPtHSz_Du1o_t7azg45mOaxw61etxuUyYnACJhcFNaw7HTkRo5PlDDyb9A4njL5EtGitjqbPbUNLTqC5vZ2Mb4GRTSDtz2Y2cZ4X3En5k-56bjB_TUJgT5l-luj-CP7VQxLGwi2MqdQjPYf5Aai2wZr_n6el4pfkhyaMFoBaDiw2bHAdbMx0C_ixJI5GOSRq6nCy8kEyzc017IQVYjO73xmTJ8e9lSOi1EvvrQqHBo8kta_0euB-S9vyUL6oaFizkmti97T5Ob68c-1HAK1XmmGMZZeuACuCeXcP44aP-7o9aCDlZPCB0R5zaElowbf-NasmYkVY3kOzaMzlC-2oAjjoXfbN66dDPufM6pJ_wMQRAIpJvcaPDOqs8DEMhiRNqznQwsE6XyoMHMPpnE0BkayCm9zwyyGV5pvjcgJNG7xQY1M8HwOiHv7mCKpX-ycd8cBy8di-zGFSP9wp1d_jlh21rgO5EmcKFGHQ-GF3ni4AxbV1nSYJ4JkD7WB8xb0a7ivm8SxpknaXczUXDVcuHf91AFgCI1Qa525WeG1EluhxOC7m1BVuMQ_e3TPpgmJfvd77evyifQI7cyxri7Ihiz9Brlbu1gr6S_pj6D1OO03xDSh7W_gDpuFea5G_jZH_s8KIKkE9hBwP9dx0b-1P2Y6R8ZCIbrc8h4KI7z2x6vN49QVahzxcYZnIs8IGua0iAwPg./download\n",
            "Resolving public.boxcloud.com (public.boxcloud.com)... 107.152.29.200\n",
            "Connecting to public.boxcloud.com (public.boxcloud.com)|107.152.29.200|:443... connected.\n",
            "HTTP request sent, awaiting response... 200 OK\n",
            "Length: 29795 (29K) [application/octet-stream]\n",
            "Saving to: ‘rl_models/pmrl_particle_10_eplen_500_itrs_15000_batch_2000.pt’\n",
            "\n",
            "rl_models/pmrl_part 100%[===================>]  29.10K  --.-KB/s    in 0.02s   \n",
            "\n",
            "2020-12-24 17:29:21 (1.60 MB/s) - ‘rl_models/pmrl_particle_10_eplen_500_itrs_15000_batch_2000.pt’ saved [29795/29795]\n",
            "\n",
            "--2020-12-24 17:29:21--  https://umd.box.com/shared/static/f4w4ffhvoi4k454l02hfq9jwhfaildm9.pt\n",
            "Resolving umd.box.com (umd.box.com)... 107.152.26.197\n",
            "Connecting to umd.box.com (umd.box.com)|107.152.26.197|:443... connected.\n",
            "HTTP request sent, awaiting response... 301 Moved Permanently\n",
            "Location: /public/static/f4w4ffhvoi4k454l02hfq9jwhfaildm9.pt [following]\n",
            "--2020-12-24 17:29:21--  https://umd.box.com/public/static/f4w4ffhvoi4k454l02hfq9jwhfaildm9.pt\n",
            "Reusing existing connection to umd.box.com:443.\n",
            "HTTP request sent, awaiting response... 301 Moved Permanently\n",
            "Location: https://umd.app.box.com/public/static/f4w4ffhvoi4k454l02hfq9jwhfaildm9.pt [following]\n",
            "--2020-12-24 17:29:21--  https://umd.app.box.com/public/static/f4w4ffhvoi4k454l02hfq9jwhfaildm9.pt\n",
            "Resolving umd.app.box.com (umd.app.box.com)... 107.152.26.201\n",
            "Connecting to umd.app.box.com (umd.app.box.com)|107.152.26.201|:443... connected.\n",
            "HTTP request sent, awaiting response... 302 Found\n",
            "Location: https://public.boxcloud.com/d/1/b1!WxA1GGWM0njnRLHibMOhZqr778qJr4Bdi302cZx6sxVLXqNHY99jivCwGCQP77q8ObqQQUBClCFhdy63mTiykR86SoNZ04waLpTXDI-ztlAstntxhsOeixbQ74Rvui1arhLDA6wTzHtk9o_MULlM2jFBwnW439NXEeK7iZ1H2jXy4qrnIPs1onG8u-kbZjX3zPFZD41wXQufX65dVHgvAnLan8hiTg2C0Zx2u9-SBGlklH2S1_LRw8P7-k79SAo4nMFwndQIU5Sm4gC2qu_QFFGk74xQ382jvd4jJkIhFD-dJ_GtYK5nXp0arF-cglKv1W2v_f4_Ctr7EIs4fHUQCZoGin6yVlRhnEHyCWbyP16CnzpQ5dyduVrjpoVwPqw_KJVLQTErAIPzefF4ccWTtmETHF3yfVUmAlCt8QmktMPCYzowacC2gAX3KdlCAg7F9mBD-Pp0H7Gfhp6LcjdTfE5LBGUXdc9yPtNp9bkITBxLI8I7TycQGfWOhagAtS0oIUvbb9dxgQoz5a-9K5oeh7a4ZSbFCafT8sTKxkauC9bIVYa9tOhbcAKu-o6oXi8StH_ZbcoBkNfmd3LQ59Ht9EjfcfijPO0HpWR9VSODwVXqqSHOhce9ZQFs4Z_bSn3VFT19-r64_WLsbwEvfnuXE4pKhTeJ0dX6gDJs27F5bjSVOoTCkNs33Aa-nAa9qHc_Xqrzx2VeeQ1VJmPVVnuhU28FnJ22oqPXad_qdHSlCc_zKXVDm4JT6d3kEdFmghTSh8Kjb_sVt3DPTYygXjvK2n65Ncqzj2l8d8BgfCHnH7MT20I0WcVZUU-rHw4n9GAto8UDjktB9JowQ7ouLE-fJi6PIklZoPE5Ve6y0wHEN04VM8elyvOYNHI8-xir0bzY5oRGezVbFg3Y-KmZoYjCWniNPo0elD8IJDPRoUKaupDiqim56jYuvqAhpuESftsBygNjCp30CaOeH2mLvY99bPLOsPuTqagERNCnpqdSeZN_X1yiZ5sggIDxi6hglj1blTIAF76GLxU_ei-AyalhvOXKLvT6xzYNIbBHplGtrds7D4maaY5lwBqEpMTZcgZ2u7nm6LxyCakZ9w9f46nIkY6f85P561KUxdffuYE9G6JSwlYBcrk7w9Qfb8mrxaXLlpCmansigJMvcZb1Dfq2FZsq-oXnKlwzkL8PsQQ5M1ATn5qUglfObswFMYsbmEZGLsn7RjZKKh2KDq3ov8yA_6DU5aPlINIwKydi-0EJ-UtWbbRcF6mxJ6gbg9wyumMpoq6513I-eafBz-rI1QonxGm-hHjcFrS2JiTqt-1W4S6opycpxTmJJcf8abEIN1iyVDVQpkBD2gFSKhVXgWMpZpuFZvR4arz9-oJA2Q8TYmb5jGoY_QzyW-Hz2hX3R3up1zAI_lk0txysMTUcv5bSRQbMrI6_I5eCMv9Bq3qwNIMcc0J5_WZXM38./download [following]\n",
            "--2020-12-24 17:29:22--  https://public.boxcloud.com/d/1/b1!WxA1GGWM0njnRLHibMOhZqr778qJr4Bdi302cZx6sxVLXqNHY99jivCwGCQP77q8ObqQQUBClCFhdy63mTiykR86SoNZ04waLpTXDI-ztlAstntxhsOeixbQ74Rvui1arhLDA6wTzHtk9o_MULlM2jFBwnW439NXEeK7iZ1H2jXy4qrnIPs1onG8u-kbZjX3zPFZD41wXQufX65dVHgvAnLan8hiTg2C0Zx2u9-SBGlklH2S1_LRw8P7-k79SAo4nMFwndQIU5Sm4gC2qu_QFFGk74xQ382jvd4jJkIhFD-dJ_GtYK5nXp0arF-cglKv1W2v_f4_Ctr7EIs4fHUQCZoGin6yVlRhnEHyCWbyP16CnzpQ5dyduVrjpoVwPqw_KJVLQTErAIPzefF4ccWTtmETHF3yfVUmAlCt8QmktMPCYzowacC2gAX3KdlCAg7F9mBD-Pp0H7Gfhp6LcjdTfE5LBGUXdc9yPtNp9bkITBxLI8I7TycQGfWOhagAtS0oIUvbb9dxgQoz5a-9K5oeh7a4ZSbFCafT8sTKxkauC9bIVYa9tOhbcAKu-o6oXi8StH_ZbcoBkNfmd3LQ59Ht9EjfcfijPO0HpWR9VSODwVXqqSHOhce9ZQFs4Z_bSn3VFT19-r64_WLsbwEvfnuXE4pKhTeJ0dX6gDJs27F5bjSVOoTCkNs33Aa-nAa9qHc_Xqrzx2VeeQ1VJmPVVnuhU28FnJ22oqPXad_qdHSlCc_zKXVDm4JT6d3kEdFmghTSh8Kjb_sVt3DPTYygXjvK2n65Ncqzj2l8d8BgfCHnH7MT20I0WcVZUU-rHw4n9GAto8UDjktB9JowQ7ouLE-fJi6PIklZoPE5Ve6y0wHEN04VM8elyvOYNHI8-xir0bzY5oRGezVbFg3Y-KmZoYjCWniNPo0elD8IJDPRoUKaupDiqim56jYuvqAhpuESftsBygNjCp30CaOeH2mLvY99bPLOsPuTqagERNCnpqdSeZN_X1yiZ5sggIDxi6hglj1blTIAF76GLxU_ei-AyalhvOXKLvT6xzYNIbBHplGtrds7D4maaY5lwBqEpMTZcgZ2u7nm6LxyCakZ9w9f46nIkY6f85P561KUxdffuYE9G6JSwlYBcrk7w9Qfb8mrxaXLlpCmansigJMvcZb1Dfq2FZsq-oXnKlwzkL8PsQQ5M1ATn5qUglfObswFMYsbmEZGLsn7RjZKKh2KDq3ov8yA_6DU5aPlINIwKydi-0EJ-UtWbbRcF6mxJ6gbg9wyumMpoq6513I-eafBz-rI1QonxGm-hHjcFrS2JiTqt-1W4S6opycpxTmJJcf8abEIN1iyVDVQpkBD2gFSKhVXgWMpZpuFZvR4arz9-oJA2Q8TYmb5jGoY_QzyW-Hz2hX3R3up1zAI_lk0txysMTUcv5bSRQbMrI6_I5eCMv9Bq3qwNIMcc0J5_WZXM38./download\n",
            "Resolving public.boxcloud.com (public.boxcloud.com)... 107.152.29.200\n",
            "Connecting to public.boxcloud.com (public.boxcloud.com)|107.152.29.200|:443... connected.\n",
            "HTTP request sent, awaiting response... 200 OK\n",
            "Length: 29795 (29K) [application/octet-stream]\n",
            "Saving to: ‘rl_models/pmrl_particle_30_eplen_500_itrs_15000_batch_1000.pt’\n",
            "\n",
            "rl_models/pmrl_part 100%[===================>]  29.10K  --.-KB/s    in 0.02s   \n",
            "\n",
            "2020-12-24 17:29:22 (1.61 MB/s) - ‘rl_models/pmrl_particle_30_eplen_500_itrs_15000_batch_1000.pt’ saved [29795/29795]\n",
            "\n"
          ],
          "name": "stdout"
        }
      ]
    },
    {
      "cell_type": "code",
      "metadata": {
        "id": "szTwYOBPfPaA"
      },
      "source": [
        "from PPO_agent import *"
      ],
      "execution_count": null,
      "outputs": []
    },
    {
      "cell_type": "code",
      "metadata": {
        "id": "FoQ_HAR2gf2d"
      },
      "source": [
        "# Defining Environment\r\n",
        "height, width = 100, 100 # Grid size\r\n",
        "\r\n",
        "# For each robot (4 here) define (row, column, size) i.e. location and size\r\n",
        "robot_info = np.array([30, 20, 10, 30, 260, 10, 200, 20, 10, 250, 200, 10])//3\r\n",
        "\r\n",
        "# For each drone (1 here), define (row, colmn, size) i.e. location and size\r\n",
        "#drone_info = [20, 50, 100]  \r\n",
        "# drone_info = [40, 20, 100]  \r\n",
        "drone_info = [10,20, 30]# np.array([40, 20, 100] )\r\n",
        "drone_latency = 2 # Latency fatctor for drone\r\n",
        "\r\n",
        "num_obstacles = 40 # number of objects\r\n",
        "\r\n",
        "env = PMGridEnv(height, width, robot_info, drone_info, num_obstacles, drone_latency)\r\n",
        "\r\n",
        "num_agents= len(env.playerList)\r\n",
        "\r\n",
        "\r\n",
        "\r\n",
        "#initialize belief space\r\n",
        "env.belief= np.zeros((height, width))\r\n",
        "env.num_beliefs= 10\r\n",
        "init_belief(env)"
      ],
      "execution_count": null,
      "outputs": []
    },
    {
      "cell_type": "code",
      "metadata": {
        "id": "nbPSjj4FhPLT",
        "colab": {
          "base_uri": "https://localhost:8080/"
        },
        "outputId": "0f666a64-e914-494e-dbc8-d53e219f7fe9"
      },
      "source": [
        "memory = Memory(CONST.NUM_AGENTS)\r\n",
        "rlAgent = PPO(env)\r\n",
        "rlAgent.loadModel(\"rl_models/ActorCritic_30part_500itr.pt\", 1)"
      ],
      "execution_count": null,
      "outputs": [
        {
          "output_type": "stream",
          "text": [
            "Log Dir: tf_log/demo_CNN888\n"
          ],
          "name": "stdout"
        }
      ]
    },
    {
      "cell_type": "code",
      "metadata": {
        "id": "PVZrzF5ziEup",
        "colab": {
          "base_uri": "https://localhost:8080/",
          "height": 373
        },
        "outputId": "95c35c63-cd7d-4a14-a0d5-541e28ee9529"
      },
      "source": [
        "# Initialize heatmap\r\n",
        "heatmap = discretize_env(env, grid_size = 10)\r\n",
        "        \r\n",
        "for i in range(200):\r\n",
        "    for id, player in enumerate(env.playerList):\r\n",
        "        # Form 1: use position dircetly\r\n",
        "        # player.pos = (x,y)\r\n",
        "\r\n",
        "        # Form 2: use move function with size and canvas\r\n",
        "        player.move(np.random.choice(['up', 'down', 'left', 'right']), player.size, env.canvas)\r\n",
        "\r\n",
        "        # Get next move based from Lawnmower\r\n",
        "        # player.move(next(gens[id]), player.size, env.canvas)\r\n",
        "        \r\n",
        "        \r\n",
        "    ### Update drones' locations\r\n",
        "    for drone in env.droneList:\r\n",
        "        action = info_greddy_PF(drone, heatmap, env.action_list)\r\n",
        "        drone.move(action, drone.size//5, env.canvas)\r\n",
        "\r\n",
        "    ### Update graphics\r\n",
        "    env.update_all() \r\n",
        "\r\n",
        "    ### Get updated coverage and observations\r\n",
        "    # self.covergae, self.env_img = self.process_screen(my_coverage=self.coverage, my_canvas=self.canvas)\r\n",
        "    env.process_screen()\r\n",
        "\r\n",
        "    ### Get drone's view\r\n",
        "    env.drone_map = env.get_droneview(env.drone_map, env.env_img)\r\n",
        "\r\n",
        "    ### Get reward\r\n",
        "    rwd = reward(env)\r\n",
        "    \r\n",
        "    ### Generate Heatmap of size 10x10\r\n",
        "    heatmap = discretize_env(env, grid_size = 10)\r\n",
        "\r\n",
        "    ### Get drone's belife space\r\n",
        "    env.belief= update_belief(env.belief,env)\r\n",
        "    \r\n",
        "\r\n",
        "\r\n",
        "    ################# Visualization #####################3\r\n",
        "    ### Add borders to the environment image\r\n",
        "    new_img1 = cv2.copyMakeBorder(env.env_img,10,10,10,10,cv2.BORDER_CONSTANT,value=(255,255,255))\r\n",
        "    \r\n",
        "    ### Get particles/belief image (as RGB) and add borders\r\n",
        "    particles_img = np.array([env.belief]*3).transpose(1,2,0).astype(np.uint8)\r\n",
        "    new_img2 = cv2.copyMakeBorder(particles_img,10,10,10,10,cv2.BORDER_CONSTANT,value=(255,255,255))\r\n",
        "    \r\n",
        "    ### Convert heatmap to a RGB image and add order\r\n",
        "    heatmap_img = np.array([cv2.resize(heatmap, (height, width))]*3).transpose(1,2,0)\r\n",
        "    heatmap_img = (255*((heatmap_img+100)/600.)).astype(np.uint8)\r\n",
        "    new_img3 = cv2.copyMakeBorder(heatmap_img,10,10,10,10,cv2.BORDER_CONSTANT,value=(255,255,255))\r\n",
        "    \r\n",
        "    ### Combine images\r\n",
        "    final_img = np.hstack([new_img1, new_img2, new_img3])\r\n",
        "    final_img = cv2.resize(final_img, (final_img.shape[1]*3, final_img.shape[0]*3))\r\n",
        "\r\n",
        "    ### Add labels\r\n",
        "    final_img = cv2.putText(final_img, 'Environnment', (100, 21), fontFace = cv2.FONT_HERSHEY_SIMPLEX , fontScale=0.8, color=(0,0,0), thickness= 2)\r\n",
        "    final_img = cv2.putText(final_img, 'Belief', (500, 21), fontFace = cv2.FONT_HERSHEY_SIMPLEX , fontScale=0.8, color=(0,0,0), thickness= 2)\r\n",
        "    final_img = cv2.putText(final_img, 'Heatmap', (850, 21), fontFace = cv2.FONT_HERSHEY_SIMPLEX , fontScale=0.8, color=(0,0,0), thickness= 2)\r\n",
        "\r\n",
        "\r\n",
        "    \r\n",
        "    output.clear()\r\n",
        "    print(f'Reward: {rwd}')\r\n",
        "    cv2_imshow(final_img)\r\n",
        "    time.sleep(0.5)\r\n"
      ],
      "execution_count": null,
      "outputs": [
        {
          "output_type": "stream",
          "text": [
            "Reward: 63\n"
          ],
          "name": "stdout"
        },
        {
          "output_type": "display_data",
          "data": {
            "image/png": "[encoded data removed]",
            "text/plain": [
              "<PIL.Image.Image image mode=RGB size=1080x360 at 0x7F670B192898>"
            ]
          },
          "metadata": {
            "tags": []
          }
        }
      ]
    },
    {
      "cell_type": "code",
      "metadata": {
        "id": "pJDcMTZmlYFi"
      },
      "source": [
        ""
      ],
      "execution_count": null,
      "outputs": []
    }
  ]
}